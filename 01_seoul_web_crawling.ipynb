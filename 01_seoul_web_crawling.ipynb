{
  "nbformat": 4,
  "nbformat_minor": 0,
  "metadata": {
    "colab": {
      "provenance": [],
      "collapsed_sections": [],
      "machine_shape": "hm"
    },
    "kernelspec": {
      "name": "python3",
      "display_name": "Python 3"
    },
    "language_info": {
      "name": "python"
    }
  },
  "cells": [
    {
      "cell_type": "markdown",
      "source": [
        "라이브러리 셋팅"
      ],
      "metadata": {
        "id": "N7aihOV_9Nx6"
      }
    },
    {
      "cell_type": "code",
      "execution_count": null,
      "metadata": {
        "id": "LCZdAsfz0jyC"
      },
      "outputs": [],
      "source": [
        "import requests\n",
        "from bs4 import BeautifulSoup \n",
        "import pandas as pd\n",
        "from tqdm import tqdm\n",
        "from time import sleep"
      ]
    },
    {
      "cell_type": "markdown",
      "source": [
        "크롤링한 데이터들을 담을 딕셔너리 생성"
      ],
      "metadata": {
        "id": "N2xtISRK9VFz"
      }
    },
    {
      "cell_type": "code",
      "source": [
        "nogada = {\n",
        "    '사건번호':[],\n",
        "    '내용' : [],\n",
        "    '결과' : [],\n",
        "    '날짜' : [],\n",
        "    '관할위원회':[]\n",
        "}"
      ],
      "metadata": {
        "id": "zWyUl0TC8tFm"
      },
      "execution_count": null,
      "outputs": []
    },
    {
      "cell_type": "code",
      "source": [
        "for page in tqdm(range(1,1680)): #서울 노동위원회 부당해고 데이터 크롤링 - 20분걸림\n",
        "\n",
        "\n",
        "  url = 'http://www.nlrc.go.kr/nlrc/md/search_case.go'\n",
        "  headers = {\n",
        "    'Referer': 'http://www.nlrc.go.kr/nlrc/md/search_case.go',\n",
        "    'User-Agent': 'Mozilla/5.0 (Windows NT 10.0; Win64; x64) AppleWebKit/537.36 (KHTML, like Gecko) Chrome/100.0.4896.75 Safari/537.36'\n",
        "}\n",
        "  data = {\n",
        "'inputChk': '해고',\n",
        "'pQuery_tmp': '해고',\n",
        "'even_gubn':[] ,\n",
        "'currentPage':str(page) ,\n",
        "'searchGubn': 'BH',\n",
        "'pQuery': '해고',\n",
        "'key_end_fdate':[] ,\n",
        "'key_end_tdate':[] ,\n",
        "'key_comm_code': '01'}\n",
        "\n",
        "\n",
        "# 리퀘스트를 짧은 시간에 여러번 넣으면 접근이 막히는 문제가 발생하기에 except 넣어줌.\n",
        "  try:\n",
        "    resp = requests.post(url, headers=headers, data=data)\n",
        "    soup = BeautifulSoup(resp.content, 'lxml')\n",
        "  except requests.exceptions.ConnectionError:\n",
        "    resp.status_code = \"Connection refused\"\n",
        "\n",
        "  \n",
        "  num_result_tags = soup.select('dl span.txt_blue')\n",
        "  for i in range(10):\n",
        "    nogada['사건번호'].append(num_result_tags[::2][i].text.replace('|',''))\n",
        "    nogada['결과'].append(num_result_tags[1::2][i].text.replace('|',''))\n",
        "    nogada['내용'].append(soup.select('dl dd.text-cut2')[i].text)\n",
        "    nogada['날짜'].append(soup.select('dl span.search_date')[i].text.strip())\n",
        "    nogada['관할위원회'].append(soup.select('dl dt a')[i]['onclick'].split(\"'\")[3])"
      ],
      "metadata": {
        "colab": {
          "base_uri": "https://localhost:8080/"
        },
        "id": "hLvuTnMb0sco",
        "outputId": "cbcd096b-22b5-4ab3-f813-864f2d57023f"
      },
      "execution_count": null,
      "outputs": [
        {
          "output_type": "stream",
          "name": "stderr",
          "text": [
            "100%|██████████| 1679/1679 [34:05<00:00,  1.22s/it]\n"
          ]
        }
      ]
    },
    {
      "cell_type": "code",
      "source": [
        "df = pd.DataFrame(nogada)\n",
        "df"
      ],
      "metadata": {
        "colab": {
          "base_uri": "https://localhost:8080/",
          "height": 641
        },
        "id": "TqMxS81CAICC",
        "outputId": "b46af276-88cd-4b5f-94b0-84b5b83a072b"
      },
      "execution_count": null,
      "outputs": [
        {
          "output_type": "execute_result",
          "data": {
            "text/plain": [
              "                사건번호                                                 내용  \\\n",
              "0        2022부해1317   가. 사용자 적격 인정 여부 연맹과 노동조합의 대표가 동일하고 주소지가 같으며 통합...   \n",
              "1        2022부해1641   가. 징계해고 사유의 존재 여부 근로자는 공무직으로 서울시 공무직 채용 및 복무 등...   \n",
              "2        2022부해1608   ① 근로자는 구인공고를 보고 입사지원을 하였고, 구인공고에는 “1개월 단기 당직의 ...   \n",
              "3        2022부해1595   ① 근로자는 관리소장이 ‘지시를 거부하는 근로자는 필요 없다. 다른 사람을 구할 테...   \n",
              "4        2022부해1370   가. 근로계약의 법적 성격 ① 기간의 정함이 없는 최초 근로계약서 체결 직후 사용자...   \n",
              "...              ...                                                ...   \n",
              "16785     2011부해792                                                       \n",
              "16786     2012부해425                                                       \n",
              "16787    2012부해1556                                                       \n",
              "16788    2012부해2240                                                       \n",
              "16789    2012부해2536                                                       \n",
              "\n",
              "           결과          날짜 관할위원회  \n",
              "0         기각   2022-09-07    01  \n",
              "1         기각   2022-09-06    01  \n",
              "2         기각   2022-09-01    01  \n",
              "3         기각   2022-08-31    01  \n",
              "4         기각   2022-08-26    01  \n",
              "...       ...         ...   ...  \n",
              "16785   전부인정           --    01  \n",
              "16786     각하           --    01  \n",
              "16787   전부인정           --    01  \n",
              "16788     각하           --    01  \n",
              "16789     각하           --    01  \n",
              "\n",
              "[16790 rows x 5 columns]"
            ],
            "text/html": [
              "\n",
              "  <div id=\"df-c4d8be44-0464-4bd5-a213-4a0259fb8113\">\n",
              "    <div class=\"colab-df-container\">\n",
              "      <div>\n",
              "<style scoped>\n",
              "    .dataframe tbody tr th:only-of-type {\n",
              "        vertical-align: middle;\n",
              "    }\n",
              "\n",
              "    .dataframe tbody tr th {\n",
              "        vertical-align: top;\n",
              "    }\n",
              "\n",
              "    .dataframe thead th {\n",
              "        text-align: right;\n",
              "    }\n",
              "</style>\n",
              "<table border=\"1\" class=\"dataframe\">\n",
              "  <thead>\n",
              "    <tr style=\"text-align: right;\">\n",
              "      <th></th>\n",
              "      <th>사건번호</th>\n",
              "      <th>내용</th>\n",
              "      <th>결과</th>\n",
              "      <th>날짜</th>\n",
              "      <th>관할위원회</th>\n",
              "    </tr>\n",
              "  </thead>\n",
              "  <tbody>\n",
              "    <tr>\n",
              "      <th>0</th>\n",
              "      <td>2022부해1317</td>\n",
              "      <td>가. 사용자 적격 인정 여부 연맹과 노동조합의 대표가 동일하고 주소지가 같으며 통합...</td>\n",
              "      <td>기각</td>\n",
              "      <td>2022-09-07</td>\n",
              "      <td>01</td>\n",
              "    </tr>\n",
              "    <tr>\n",
              "      <th>1</th>\n",
              "      <td>2022부해1641</td>\n",
              "      <td>가. 징계해고 사유의 존재 여부 근로자는 공무직으로 서울시 공무직 채용 및 복무 등...</td>\n",
              "      <td>기각</td>\n",
              "      <td>2022-09-06</td>\n",
              "      <td>01</td>\n",
              "    </tr>\n",
              "    <tr>\n",
              "      <th>2</th>\n",
              "      <td>2022부해1608</td>\n",
              "      <td>① 근로자는 구인공고를 보고 입사지원을 하였고, 구인공고에는 “1개월 단기 당직의 ...</td>\n",
              "      <td>기각</td>\n",
              "      <td>2022-09-01</td>\n",
              "      <td>01</td>\n",
              "    </tr>\n",
              "    <tr>\n",
              "      <th>3</th>\n",
              "      <td>2022부해1595</td>\n",
              "      <td>① 근로자는 관리소장이 ‘지시를 거부하는 근로자는 필요 없다. 다른 사람을 구할 테...</td>\n",
              "      <td>기각</td>\n",
              "      <td>2022-08-31</td>\n",
              "      <td>01</td>\n",
              "    </tr>\n",
              "    <tr>\n",
              "      <th>4</th>\n",
              "      <td>2022부해1370</td>\n",
              "      <td>가. 근로계약의 법적 성격 ① 기간의 정함이 없는 최초 근로계약서 체결 직후 사용자...</td>\n",
              "      <td>기각</td>\n",
              "      <td>2022-08-26</td>\n",
              "      <td>01</td>\n",
              "    </tr>\n",
              "    <tr>\n",
              "      <th>...</th>\n",
              "      <td>...</td>\n",
              "      <td>...</td>\n",
              "      <td>...</td>\n",
              "      <td>...</td>\n",
              "      <td>...</td>\n",
              "    </tr>\n",
              "    <tr>\n",
              "      <th>16785</th>\n",
              "      <td>2011부해792</td>\n",
              "      <td></td>\n",
              "      <td>전부인정</td>\n",
              "      <td>--</td>\n",
              "      <td>01</td>\n",
              "    </tr>\n",
              "    <tr>\n",
              "      <th>16786</th>\n",
              "      <td>2012부해425</td>\n",
              "      <td></td>\n",
              "      <td>각하</td>\n",
              "      <td>--</td>\n",
              "      <td>01</td>\n",
              "    </tr>\n",
              "    <tr>\n",
              "      <th>16787</th>\n",
              "      <td>2012부해1556</td>\n",
              "      <td></td>\n",
              "      <td>전부인정</td>\n",
              "      <td>--</td>\n",
              "      <td>01</td>\n",
              "    </tr>\n",
              "    <tr>\n",
              "      <th>16788</th>\n",
              "      <td>2012부해2240</td>\n",
              "      <td></td>\n",
              "      <td>각하</td>\n",
              "      <td>--</td>\n",
              "      <td>01</td>\n",
              "    </tr>\n",
              "    <tr>\n",
              "      <th>16789</th>\n",
              "      <td>2012부해2536</td>\n",
              "      <td></td>\n",
              "      <td>각하</td>\n",
              "      <td>--</td>\n",
              "      <td>01</td>\n",
              "    </tr>\n",
              "  </tbody>\n",
              "</table>\n",
              "<p>16790 rows × 5 columns</p>\n",
              "</div>\n",
              "      <button class=\"colab-df-convert\" onclick=\"convertToInteractive('df-c4d8be44-0464-4bd5-a213-4a0259fb8113')\"\n",
              "              title=\"Convert this dataframe to an interactive table.\"\n",
              "              style=\"display:none;\">\n",
              "        \n",
              "  <svg xmlns=\"http://www.w3.org/2000/svg\" height=\"24px\"viewBox=\"0 0 24 24\"\n",
              "       width=\"24px\">\n",
              "    <path d=\"M0 0h24v24H0V0z\" fill=\"none\"/>\n",
              "    <path d=\"M18.56 5.44l.94 2.06.94-2.06 2.06-.94-2.06-.94-.94-2.06-.94 2.06-2.06.94zm-11 1L8.5 8.5l.94-2.06 2.06-.94-2.06-.94L8.5 2.5l-.94 2.06-2.06.94zm10 10l.94 2.06.94-2.06 2.06-.94-2.06-.94-.94-2.06-.94 2.06-2.06.94z\"/><path d=\"M17.41 7.96l-1.37-1.37c-.4-.4-.92-.59-1.43-.59-.52 0-1.04.2-1.43.59L10.3 9.45l-7.72 7.72c-.78.78-.78 2.05 0 2.83L4 21.41c.39.39.9.59 1.41.59.51 0 1.02-.2 1.41-.59l7.78-7.78 2.81-2.81c.8-.78.8-2.07 0-2.86zM5.41 20L4 18.59l7.72-7.72 1.47 1.35L5.41 20z\"/>\n",
              "  </svg>\n",
              "      </button>\n",
              "      \n",
              "  <style>\n",
              "    .colab-df-container {\n",
              "      display:flex;\n",
              "      flex-wrap:wrap;\n",
              "      gap: 12px;\n",
              "    }\n",
              "\n",
              "    .colab-df-convert {\n",
              "      background-color: #E8F0FE;\n",
              "      border: none;\n",
              "      border-radius: 50%;\n",
              "      cursor: pointer;\n",
              "      display: none;\n",
              "      fill: #1967D2;\n",
              "      height: 32px;\n",
              "      padding: 0 0 0 0;\n",
              "      width: 32px;\n",
              "    }\n",
              "\n",
              "    .colab-df-convert:hover {\n",
              "      background-color: #E2EBFA;\n",
              "      box-shadow: 0px 1px 2px rgba(60, 64, 67, 0.3), 0px 1px 3px 1px rgba(60, 64, 67, 0.15);\n",
              "      fill: #174EA6;\n",
              "    }\n",
              "\n",
              "    [theme=dark] .colab-df-convert {\n",
              "      background-color: #3B4455;\n",
              "      fill: #D2E3FC;\n",
              "    }\n",
              "\n",
              "    [theme=dark] .colab-df-convert:hover {\n",
              "      background-color: #434B5C;\n",
              "      box-shadow: 0px 1px 3px 1px rgba(0, 0, 0, 0.15);\n",
              "      filter: drop-shadow(0px 1px 2px rgba(0, 0, 0, 0.3));\n",
              "      fill: #FFFFFF;\n",
              "    }\n",
              "  </style>\n",
              "\n",
              "      <script>\n",
              "        const buttonEl =\n",
              "          document.querySelector('#df-c4d8be44-0464-4bd5-a213-4a0259fb8113 button.colab-df-convert');\n",
              "        buttonEl.style.display =\n",
              "          google.colab.kernel.accessAllowed ? 'block' : 'none';\n",
              "\n",
              "        async function convertToInteractive(key) {\n",
              "          const element = document.querySelector('#df-c4d8be44-0464-4bd5-a213-4a0259fb8113');\n",
              "          const dataTable =\n",
              "            await google.colab.kernel.invokeFunction('convertToInteractive',\n",
              "                                                     [key], {});\n",
              "          if (!dataTable) return;\n",
              "\n",
              "          const docLinkHtml = 'Like what you see? Visit the ' +\n",
              "            '<a target=\"_blank\" href=https://colab.research.google.com/notebooks/data_table.ipynb>data table notebook</a>'\n",
              "            + ' to learn more about interactive tables.';\n",
              "          element.innerHTML = '';\n",
              "          dataTable['output_type'] = 'display_data';\n",
              "          await google.colab.output.renderOutput(dataTable, element);\n",
              "          const docLink = document.createElement('div');\n",
              "          docLink.innerHTML = docLinkHtml;\n",
              "          element.appendChild(docLink);\n",
              "        }\n",
              "      </script>\n",
              "    </div>\n",
              "  </div>\n",
              "  "
            ]
          },
          "metadata": {},
          "execution_count": 4
        }
      ]
    },
    {
      "cell_type": "markdown",
      "source": [
        "크롤링한 데이터를 엑셀로 저장\n"
      ],
      "metadata": {
        "id": "L3Gc9US_9K04"
      }
    },
    {
      "cell_type": "code",
      "source": [
        "df.to_excel('서울노동위원회 부당해고.xlsx', index=False)"
      ],
      "metadata": {
        "id": "LnmdfLucC_95"
      },
      "execution_count": null,
      "outputs": []
    }
  ]
}