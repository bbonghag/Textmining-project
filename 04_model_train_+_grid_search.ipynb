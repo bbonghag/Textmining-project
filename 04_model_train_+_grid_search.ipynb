{
  "cells": [
    {
      "cell_type": "markdown",
      "metadata": {
        "id": "6s2mYmSHAiq6"
      },
      "source": [
        "# 라이브러리 셋팅"
      ]
    },
    {
      "cell_type": "code",
      "execution_count": null,
      "metadata": {
        "id": "LN-MUSdqK81u"
      },
      "outputs": [],
      "source": [
        "#라이브러리 호출 \n",
        "\n",
        "import pickle\n",
        "from google.colab import drive\n",
        "\n",
        "import pandas as pd\n",
        "import numpy as np\n",
        "\n",
        "import seaborn as sns\n",
        "import matplotlib.pyplot as plt\n",
        "%matplotlib inline\n",
        "\n",
        "from sklearn.impute import SimpleImputer\n",
        "from sklearn.preprocessing import OneHotEncoder, StandardScaler\n",
        "from sklearn.base import BaseEstimator, TransformerMixin\n",
        "\n",
        "from sklearn.ensemble import RandomForestClassifier, AdaBoostClassifier, GradientBoostingClassifier, ExtraTreesClassifier, VotingClassifier\n",
        "from sklearn.discriminant_analysis import LinearDiscriminantAnalysis\n",
        "from sklearn.linear_model import LogisticRegression\n",
        "from sklearn.neighbors import KNeighborsClassifier\n",
        "from sklearn.tree import DecisionTreeClassifier\n",
        "from sklearn.neural_network import MLPClassifier\n",
        "from sklearn.svm import SVC\n",
        "from sklearn.svm import LinearSVC\n",
        "from sklearn.naive_bayes import MultinomialNB\n",
        "from sklearn.model_selection import cross_validate\n",
        "\n",
        "from sklearn.model_selection import train_test_split\n",
        "from sklearn.model_selection import GridSearchCV, cross_val_score, StratifiedKFold, learning_curve\n",
        "from sklearn.ensemble import VotingClassifier\n",
        "from sklearn.model_selection import cross_val_predict\n",
        "from sklearn import model_selection\n",
        "from sklearn.model_selection import KFold\n",
        "from sklearn.metrics import mean_squared_error"
      ]
    },
    {
      "cell_type": "code",
      "execution_count": null,
      "metadata": {
        "colab": {
          "base_uri": "https://localhost:8080/"
        },
        "id": "f5ABJB2QVO7B",
        "outputId": "f653c46f-d346-439a-e33e-a87ec558a1e9"
      },
      "outputs": [
        {
          "name": "stdout",
          "output_type": "stream",
          "text": [
            "Collecting konlpy\n",
            "  Downloading konlpy-0.6.0-py2.py3-none-any.whl (19.4 MB)\n",
            "\u001b[K     |████████████████████████████████| 19.4 MB 5.3 MB/s \n",
            "\u001b[?25hRequirement already satisfied: numpy>=1.6 in /usr/local/lib/python3.7/dist-packages (from konlpy) (1.21.5)\n",
            "Requirement already satisfied: lxml>=4.1.0 in /usr/local/lib/python3.7/dist-packages (from konlpy) (4.2.6)\n",
            "Collecting JPype1>=0.7.0\n",
            "  Downloading JPype1-1.3.0-cp37-cp37m-manylinux_2_5_x86_64.manylinux1_x86_64.whl (448 kB)\n",
            "\u001b[K     |████████████████████████████████| 448 kB 48.6 MB/s \n",
            "\u001b[?25hRequirement already satisfied: typing-extensions in /usr/local/lib/python3.7/dist-packages (from JPype1>=0.7.0->konlpy) (4.1.1)\n",
            "Installing collected packages: JPype1, konlpy\n",
            "Successfully installed JPype1-1.3.0 konlpy-0.6.0\n"
          ]
        }
      ],
      "source": [
        "!pip install konlpy"
      ]
    },
    {
      "cell_type": "code",
      "execution_count": null,
      "metadata": {
        "id": "-8DgYvwZU9nm"
      },
      "outputs": [],
      "source": [
        "from konlpy.tag import Okt # komoran, hannanum, kkma, mecab\n",
        "\n",
        "import os\n",
        "\n",
        "import numpy as np\n",
        "import pandas as pd\n",
        "\n",
        "from datetime import datetime\n",
        "import json\n",
        "import re\n",
        "\n",
        "\n",
        "from tqdm.notebook import tqdm"
      ]
    },
    {
      "cell_type": "markdown",
      "metadata": {
        "id": "DlMc-wt0AtJB"
      },
      "source": [
        "# 데이터 입력\n",
        "\n"
      ]
    },
    {
      "cell_type": "markdown",
      "metadata": {
        "id": "6FavZJW6BbI0"
      },
      "source": [
        "## 데이터 불러오기"
      ]
    },
    {
      "cell_type": "code",
      "execution_count": null,
      "metadata": {
        "id": "zUkizSqa2zZx"
      },
      "outputs": [],
      "source": [
        "data_bin = pd.read_excel('/content/df_freq_T 단어 빈도수 사전.xlsx')\n",
        "data_bin"
      ]
    },
    {
      "cell_type": "code",
      "execution_count": null,
      "metadata": {
        "id": "vPpHzuha5KVf"
      },
      "outputs": [],
      "source": [
        "data_count = data_bin.loc[data_bin['횟수']<=3]\n",
        "data_count_bin = list(data_count['단어'].values)\n",
        "data_count_bin"
      ]
    },
    {
      "cell_type": "code",
      "execution_count": null,
      "metadata": {
        "colab": {
          "base_uri": "https://localhost:8080/",
          "height": 423
        },
        "id": "TT92Ho2lK_rE",
        "outputId": "bc02f520-d41b-40c8-d0fe-1acbc38beb32"
      },
      "outputs": [
        {
          "data": {
            "text/html": [
              "\n",
              "  <div id=\"df-b2ee4e26-c6b0-4975-bd10-af3c4ab22dc2\">\n",
              "    <div class=\"colab-df-container\">\n",
              "      <div>\n",
              "<style scoped>\n",
              "    .dataframe tbody tr th:only-of-type {\n",
              "        vertical-align: middle;\n",
              "    }\n",
              "\n",
              "    .dataframe tbody tr th {\n",
              "        vertical-align: top;\n",
              "    }\n",
              "\n",
              "    .dataframe thead th {\n",
              "        text-align: right;\n",
              "    }\n",
              "</style>\n",
              "<table border=\"1\" class=\"dataframe\">\n",
              "  <thead>\n",
              "    <tr style=\"text-align: right;\">\n",
              "      <th></th>\n",
              "      <th>내용</th>\n",
              "      <th>라벨</th>\n",
              "    </tr>\n",
              "  </thead>\n",
              "  <tbody>\n",
              "    <tr>\n",
              "      <th>0</th>\n",
              "      <td>원심 의결 오다 재심 의결 결정 구체 내용 차이 확인 되다 사건 사용자 대한 비위 ...</td>\n",
              "      <td>1</td>\n",
              "    </tr>\n",
              "    <tr>\n",
              "      <th>1</th>\n",
              "      <td>가다 징계처분 정당성 근로자 차례 교통사고 내다 징계 사유 해당 단체 협약 취업규칙...</td>\n",
              "      <td>1</td>\n",
              "    </tr>\n",
              "    <tr>\n",
              "      <th>2</th>\n",
              "      <td>가다 해고 존재 여부 사용자 해고 의사표시 하다 근로자 요청 근로 계약 종료 변경 ...</td>\n",
              "      <td>1</td>\n",
              "    </tr>\n",
              "    <tr>\n",
              "      <th>3</th>\n",
              "      <td>근로자 사용자 사용 하다 근로자 수가 이상 이다 근거 자료 사용자 계좌 이체 제출 ...</td>\n",
              "      <td>2</td>\n",
              "    </tr>\n",
              "    <tr>\n",
              "      <th>4</th>\n",
              "      <td>근로자 수가 이상 여부 사업 주가 서로 다른 개인 업종 다른 업무 근로 형태 다른 ...</td>\n",
              "      <td>0</td>\n",
              "    </tr>\n",
              "    <tr>\n",
              "      <th>...</th>\n",
              "      <td>...</td>\n",
              "      <td>...</td>\n",
              "    </tr>\n",
              "    <tr>\n",
              "      <th>29580</th>\n",
              "      <td>보다 신청 대하 우리 위원회 당사자 주장 심문 내용 관련 자료 판단 기초 하다 살피...</td>\n",
              "      <td>0</td>\n",
              "    </tr>\n",
              "    <tr>\n",
              "      <th>29581</th>\n",
              "      <td>가다 제실 여부 사용자 근로자 촉탁 근로 계약 결정 하다 따르다 복직 명령 촉탁 근...</td>\n",
              "      <td>0</td>\n",
              "    </tr>\n",
              "    <tr>\n",
              "      <th>29582</th>\n",
              "      <td>지다 서다 불다 울산 광역시 울주군 청량면 남다 신청 울산 광역시 중구 학성동 유진...</td>\n",
              "      <td>2</td>\n",
              "    </tr>\n",
              "    <tr>\n",
              "      <th>29583</th>\n",
              "      <td>강박 되다 상태 사직서 제출 하다 하다 사직서 제출 되다 수리 되다 수도 진술 사업...</td>\n",
              "      <td>0</td>\n",
              "    </tr>\n",
              "    <tr>\n",
              "      <th>29584</th>\n",
              "      <td>신청 성명 신청 업체 성진지오텍 신청 요지 보다 신청 이르다 신청 인정 하다 신청 ...</td>\n",
              "      <td>1</td>\n",
              "    </tr>\n",
              "  </tbody>\n",
              "</table>\n",
              "<p>29585 rows × 2 columns</p>\n",
              "</div>\n",
              "      <button class=\"colab-df-convert\" onclick=\"convertToInteractive('df-b2ee4e26-c6b0-4975-bd10-af3c4ab22dc2')\"\n",
              "              title=\"Convert this dataframe to an interactive table.\"\n",
              "              style=\"display:none;\">\n",
              "        \n",
              "  <svg xmlns=\"http://www.w3.org/2000/svg\" height=\"24px\"viewBox=\"0 0 24 24\"\n",
              "       width=\"24px\">\n",
              "    <path d=\"M0 0h24v24H0V0z\" fill=\"none\"/>\n",
              "    <path d=\"M18.56 5.44l.94 2.06.94-2.06 2.06-.94-2.06-.94-.94-2.06-.94 2.06-2.06.94zm-11 1L8.5 8.5l.94-2.06 2.06-.94-2.06-.94L8.5 2.5l-.94 2.06-2.06.94zm10 10l.94 2.06.94-2.06 2.06-.94-2.06-.94-.94-2.06-.94 2.06-2.06.94z\"/><path d=\"M17.41 7.96l-1.37-1.37c-.4-.4-.92-.59-1.43-.59-.52 0-1.04.2-1.43.59L10.3 9.45l-7.72 7.72c-.78.78-.78 2.05 0 2.83L4 21.41c.39.39.9.59 1.41.59.51 0 1.02-.2 1.41-.59l7.78-7.78 2.81-2.81c.8-.78.8-2.07 0-2.86zM5.41 20L4 18.59l7.72-7.72 1.47 1.35L5.41 20z\"/>\n",
              "  </svg>\n",
              "      </button>\n",
              "      \n",
              "  <style>\n",
              "    .colab-df-container {\n",
              "      display:flex;\n",
              "      flex-wrap:wrap;\n",
              "      gap: 12px;\n",
              "    }\n",
              "\n",
              "    .colab-df-convert {\n",
              "      background-color: #E8F0FE;\n",
              "      border: none;\n",
              "      border-radius: 50%;\n",
              "      cursor: pointer;\n",
              "      display: none;\n",
              "      fill: #1967D2;\n",
              "      height: 32px;\n",
              "      padding: 0 0 0 0;\n",
              "      width: 32px;\n",
              "    }\n",
              "\n",
              "    .colab-df-convert:hover {\n",
              "      background-color: #E2EBFA;\n",
              "      box-shadow: 0px 1px 2px rgba(60, 64, 67, 0.3), 0px 1px 3px 1px rgba(60, 64, 67, 0.15);\n",
              "      fill: #174EA6;\n",
              "    }\n",
              "\n",
              "    [theme=dark] .colab-df-convert {\n",
              "      background-color: #3B4455;\n",
              "      fill: #D2E3FC;\n",
              "    }\n",
              "\n",
              "    [theme=dark] .colab-df-convert:hover {\n",
              "      background-color: #434B5C;\n",
              "      box-shadow: 0px 1px 3px 1px rgba(0, 0, 0, 0.15);\n",
              "      filter: drop-shadow(0px 1px 2px rgba(0, 0, 0, 0.3));\n",
              "      fill: #FFFFFF;\n",
              "    }\n",
              "  </style>\n",
              "\n",
              "      <script>\n",
              "        const buttonEl =\n",
              "          document.querySelector('#df-b2ee4e26-c6b0-4975-bd10-af3c4ab22dc2 button.colab-df-convert');\n",
              "        buttonEl.style.display =\n",
              "          google.colab.kernel.accessAllowed ? 'block' : 'none';\n",
              "\n",
              "        async function convertToInteractive(key) {\n",
              "          const element = document.querySelector('#df-b2ee4e26-c6b0-4975-bd10-af3c4ab22dc2');\n",
              "          const dataTable =\n",
              "            await google.colab.kernel.invokeFunction('convertToInteractive',\n",
              "                                                     [key], {});\n",
              "          if (!dataTable) return;\n",
              "\n",
              "          const docLinkHtml = 'Like what you see? Visit the ' +\n",
              "            '<a target=\"_blank\" href=https://colab.research.google.com/notebooks/data_table.ipynb>data table notebook</a>'\n",
              "            + ' to learn more about interactive tables.';\n",
              "          element.innerHTML = '';\n",
              "          dataTable['output_type'] = 'display_data';\n",
              "          await google.colab.output.renderOutput(dataTable, element);\n",
              "          const docLink = document.createElement('div');\n",
              "          docLink.innerHTML = docLinkHtml;\n",
              "          element.appendChild(docLink);\n",
              "        }\n",
              "      </script>\n",
              "    </div>\n",
              "  </div>\n",
              "  "
            ],
            "text/plain": [
              "                                                      내용  라벨\n",
              "0      원심 의결 오다 재심 의결 결정 구체 내용 차이 확인 되다 사건 사용자 대한 비위 ...   1\n",
              "1      가다 징계처분 정당성 근로자 차례 교통사고 내다 징계 사유 해당 단체 협약 취업규칙...   1\n",
              "2      가다 해고 존재 여부 사용자 해고 의사표시 하다 근로자 요청 근로 계약 종료 변경 ...   1\n",
              "3      근로자 사용자 사용 하다 근로자 수가 이상 이다 근거 자료 사용자 계좌 이체 제출 ...   2\n",
              "4      근로자 수가 이상 여부 사업 주가 서로 다른 개인 업종 다른 업무 근로 형태 다른 ...   0\n",
              "...                                                  ...  ..\n",
              "29580  보다 신청 대하 우리 위원회 당사자 주장 심문 내용 관련 자료 판단 기초 하다 살피...   0\n",
              "29581  가다 제실 여부 사용자 근로자 촉탁 근로 계약 결정 하다 따르다 복직 명령 촉탁 근...   0\n",
              "29582  지다 서다 불다 울산 광역시 울주군 청량면 남다 신청 울산 광역시 중구 학성동 유진...   2\n",
              "29583  강박 되다 상태 사직서 제출 하다 하다 사직서 제출 되다 수리 되다 수도 진술 사업...   0\n",
              "29584  신청 성명 신청 업체 성진지오텍 신청 요지 보다 신청 이르다 신청 인정 하다 신청 ...   1\n",
              "\n",
              "[29585 rows x 2 columns]"
            ]
          },
          "execution_count": 6,
          "metadata": {},
          "output_type": "execute_result"
        }
      ],
      "source": [
        "# 전처리 데이터 입력\n",
        "data = pd.read_excel('/content/f_data 한단어 제외.xlsx')\n",
        "data"
      ]
    },
    {
      "cell_type": "code",
      "execution_count": null,
      "metadata": {
        "id": "jb6m9ARN4ybN"
      },
      "outputs": [],
      "source": [
        "okt= Okt()"
      ]
    },
    {
      "cell_type": "markdown",
      "metadata": {
        "id": "I-_aQ_ZACHuQ"
      },
      "source": [
        "## 훈련 테스트 세트 분리"
      ]
    },
    {
      "cell_type": "code",
      "execution_count": null,
      "metadata": {
        "id": "ycelsB0XWohT"
      },
      "outputs": [],
      "source": [
        "# 훈련,테스트 세트 나누기 \n",
        "from sklearn.model_selection import train_test_split\n",
        "x, y = data.내용, data.라벨\n",
        "X_train, X_test, y_train, y_test = train_test_split(x, y, test_size=0.3, random_state=1)\n"
      ]
    },
    {
      "cell_type": "code",
      "execution_count": null,
      "metadata": {
        "id": "kIBc98OnWxa8"
      },
      "outputs": [],
      "source": [
        "#전체 데이터를 다돌리면 시간이 오래걸려서 30%만 잘라서 진행 \n",
        "\n",
        "# X_train = X_train[:int(len(X_train)*0.3)]\n",
        "# y_train = y_train[:int(len(y_train)*0.3)]\n",
        "\n",
        "# X_test = X_test[:int(len(X_test)*0.3)]\n",
        "# y_test = y_test[:int(len(y_test)*0.3)]"
      ]
    },
    {
      "cell_type": "markdown",
      "metadata": {
        "id": "skV8uOTdCOfn"
      },
      "source": [
        "## 데이터 벡터화"
      ]
    },
    {
      "cell_type": "code",
      "execution_count": null,
      "metadata": {
        "id": "3H1pPI2KSmSj"
      },
      "outputs": [],
      "source": [
        "stopword = ['으로','에게','하고','여부','되어다','에서','대한','이다','대하','대해','라고','관련','에도','이라고','개월','부터','로서','에는','이고','또한','까지','이나','따라서','장하나','또는','로부터','거나','것이므','으로서','라는',2012,'자로','와의',2013,'통해',2011,'하나',2010,2009,'만으로','정이',2019,2018,'장이','이며','으로써',2008,'것임','하므다','가지','이라',2007,2021,2014,'으로부터','과의',2017,2015,2016,2020,'비다',00,'그러나','항제',24,'이로','각각','에서도','반면','에게는',000,'한편','역시','호에','에서의','까지의','000원','까지로','와는','먼저','해보다','라도','으로서의','일련','에게만','oo','어느','로기','로써','으로의','그리고','것일','부로','첫째','결코','2008년','2009년','그로','2010년','2007년','ooo','2005','20일','8월','10월','11월','이지만','만으로도','000만원','이라고는','0000','나름','00000','그냥','부터의','이라고도','이므로','경에','까지에','이냐','다소간','게다가','00조','이사나','사회자']"
      ]
    },
    {
      "cell_type": "code",
      "execution_count": null,
      "metadata": {
        "id": "wrgd7Zeh5k6n"
      },
      "outputs": [],
      "source": [
        "stopword"
      ]
    },
    {
      "cell_type": "code",
      "execution_count": null,
      "metadata": {
        "id": "j2lEsNviShly"
      },
      "outputs": [],
      "source": [
        "for i in data_count_bin:\n",
        "  stopword.append(i)"
      ]
    },
    {
      "cell_type": "code",
      "execution_count": null,
      "metadata": {
        "id": "3QckX888cqL3"
      },
      "outputs": [],
      "source": [
        "#명사 찾기\n",
        "def tokenizer(raw, pos=[\"Noun\"] , stopword = stopword):\n",
        "    return [\n",
        "        word for word, tag in okt.pos(\n",
        "            raw,\n",
        "            norm=True,\n",
        "            stem=True\n",
        "        )\n",
        "        if len(word) > 1 and tag in pos and word not in stopword\n",
        "        ]\n"
      ]
    },
    {
      "cell_type": "code",
      "execution_count": null,
      "metadata": {
        "id": "964bhbqMcc_h"
      },
      "outputs": [],
      "source": [
        "from sklearn.feature_extraction.text import TfidfVectorizer ,CountVectorizer\n",
        "okt = Okt()\n",
        "\n",
        "vectorize = TfidfVectorizer(\n",
        "    tokenizer=tokenizer,\n",
        "    min_df=2,\n",
        "    sublinear_tf = True,\n",
        "    # lowercase=False\n",
        ")"
      ]
    },
    {
      "cell_type": "code",
      "execution_count": null,
      "metadata": {
        "colab": {
          "base_uri": "https://localhost:8080/"
        },
        "id": "0CCNzXu-Hu_d",
        "outputId": "945aa6b8-4cf8-4efc-b4ec-8fdbcce519b0"
      },
      "outputs": [
        {
          "data": {
            "text/plain": [
              "['해고', '전제', '인정']"
            ]
          },
          "execution_count": 51,
          "metadata": {},
          "output_type": "execute_result"
        }
      ],
      "source": [
        "tokenizer('보다 가다 오다 하다 해고 전제 인정 울다')"
      ]
    },
    {
      "cell_type": "code",
      "execution_count": null,
      "metadata": {
        "id": "F_KyBXw96up8"
      },
      "outputs": [],
      "source": [
        "# X_tfidf = vectorize.fit_transform(x)"
      ]
    },
    {
      "cell_type": "code",
      "execution_count": null,
      "metadata": {
        "id": "IKL_xdWa-13P"
      },
      "outputs": [],
      "source": [
        "X_tfidf = vectorize.fit_transform(x)\n",
        "X_train_tfidf = vectorize.fit_transform(X_train)\n",
        "X_test_tfidf = vectorize.transform(X_test)"
      ]
    },
    {
      "cell_type": "markdown",
      "metadata": {
        "id": "Dz2a4rWUCU7x"
      },
      "source": [
        "# 교차검증을 통한 모델 선정"
      ]
    },
    {
      "cell_type": "code",
      "execution_count": null,
      "metadata": {
        "id": "LKA-KawW14Hm"
      },
      "outputs": [],
      "source": [
        "# #교차검증 - 10번 진행\n",
        "# clf = LogisticRegression()\n",
        "# scores = cross_val_score(clf,X_tfidf, y, cv=10)\n",
        "# scores"
      ]
    },
    {
      "cell_type": "code",
      "execution_count": null,
      "metadata": {
        "id": "KtHJhEpDU1hm"
      },
      "outputs": [],
      "source": [
        "# 교차검증 결과 데이터프레임으로 만들고 평균값 추가해주는 함수\n",
        "def make_df(x):\n",
        "  result = pd.DataFrame(x,index = ['case1', 'case2', 'case3', 'case4', 'case5', 'case6', 'case7', 'case8', 'case9', 'case10'])\n",
        "  mean = pd.DataFrame(result.mean()).T\n",
        "  return result.append(mean)"
      ]
    },
    {
      "cell_type": "code",
      "execution_count": null,
      "metadata": {
        "id": "p-F9wlfHWoK2"
      },
      "outputs": [],
      "source": [
        "# #\n",
        "# clf = LogisticRegression()\n",
        "# model_rf = RandomForestClassifier()\n",
        "# svc = LinearSVC()\n",
        "# NB_clf = MultinomialNB()\n",
        "\n",
        "# score1 = cross_val_score(clf,X_tfidf, y, cv=10 )\n",
        "# score2 = cross_val_score(model_rf, X_tfidf, y, cv=10 )\n",
        "# score3 = cross_val_score(svc, X_tfidf, y, cv=10 )\n",
        "# score4 = cross_val_score(NB_clf, X_tfidf, y, cv=10 )\n",
        "\n",
        "# print('로지스틱 회귀 교차검증 점수 : {:.2f}'.format(score1.mean()))\n",
        "# print('랜덤포레스트 교차검증 점수 : {:.2f}'.format(score2.mean()))\n",
        "# print('SVC 교차검증 점수 : {:.2f}'.format(score3.mean()))\n",
        "# print('나이브 베이즈 교차검증 점수 : {:.2f}'.format(score4.mean()))"
      ]
    },
    {
      "cell_type": "markdown",
      "metadata": {
        "id": "00wAneUsXeCC"
      },
      "source": [
        "## 로지스틱 회귀 교차검증"
      ]
    },
    {
      "cell_type": "code",
      "execution_count": null,
      "metadata": {
        "colab": {
          "base_uri": "https://localhost:8080/",
          "height": 1000
        },
        "id": "FRT2LM9r7TLL",
        "outputId": "134a437b-3549-4867-b174-a8dc49fe0c1a"
      },
      "outputs": [
        {
          "name": "stderr",
          "output_type": "stream",
          "text": [
            "/usr/local/lib/python3.7/dist-packages/sklearn/linear_model/_logistic.py:818: ConvergenceWarning: lbfgs failed to converge (status=1):\n",
            "STOP: TOTAL NO. of ITERATIONS REACHED LIMIT.\n",
            "\n",
            "Increase the number of iterations (max_iter) or scale the data as shown in:\n",
            "    https://scikit-learn.org/stable/modules/preprocessing.html\n",
            "Please also refer to the documentation for alternative solver options:\n",
            "    https://scikit-learn.org/stable/modules/linear_model.html#logistic-regression\n",
            "  extra_warning_msg=_LOGISTIC_SOLVER_CONVERGENCE_MSG,\n",
            "/usr/local/lib/python3.7/dist-packages/sklearn/linear_model/_logistic.py:818: ConvergenceWarning: lbfgs failed to converge (status=1):\n",
            "STOP: TOTAL NO. of ITERATIONS REACHED LIMIT.\n",
            "\n",
            "Increase the number of iterations (max_iter) or scale the data as shown in:\n",
            "    https://scikit-learn.org/stable/modules/preprocessing.html\n",
            "Please also refer to the documentation for alternative solver options:\n",
            "    https://scikit-learn.org/stable/modules/linear_model.html#logistic-regression\n",
            "  extra_warning_msg=_LOGISTIC_SOLVER_CONVERGENCE_MSG,\n",
            "/usr/local/lib/python3.7/dist-packages/sklearn/linear_model/_logistic.py:818: ConvergenceWarning: lbfgs failed to converge (status=1):\n",
            "STOP: TOTAL NO. of ITERATIONS REACHED LIMIT.\n",
            "\n",
            "Increase the number of iterations (max_iter) or scale the data as shown in:\n",
            "    https://scikit-learn.org/stable/modules/preprocessing.html\n",
            "Please also refer to the documentation for alternative solver options:\n",
            "    https://scikit-learn.org/stable/modules/linear_model.html#logistic-regression\n",
            "  extra_warning_msg=_LOGISTIC_SOLVER_CONVERGENCE_MSG,\n",
            "/usr/local/lib/python3.7/dist-packages/sklearn/linear_model/_logistic.py:818: ConvergenceWarning: lbfgs failed to converge (status=1):\n",
            "STOP: TOTAL NO. of ITERATIONS REACHED LIMIT.\n",
            "\n",
            "Increase the number of iterations (max_iter) or scale the data as shown in:\n",
            "    https://scikit-learn.org/stable/modules/preprocessing.html\n",
            "Please also refer to the documentation for alternative solver options:\n",
            "    https://scikit-learn.org/stable/modules/linear_model.html#logistic-regression\n",
            "  extra_warning_msg=_LOGISTIC_SOLVER_CONVERGENCE_MSG,\n",
            "/usr/local/lib/python3.7/dist-packages/sklearn/linear_model/_logistic.py:818: ConvergenceWarning: lbfgs failed to converge (status=1):\n",
            "STOP: TOTAL NO. of ITERATIONS REACHED LIMIT.\n",
            "\n",
            "Increase the number of iterations (max_iter) or scale the data as shown in:\n",
            "    https://scikit-learn.org/stable/modules/preprocessing.html\n",
            "Please also refer to the documentation for alternative solver options:\n",
            "    https://scikit-learn.org/stable/modules/linear_model.html#logistic-regression\n",
            "  extra_warning_msg=_LOGISTIC_SOLVER_CONVERGENCE_MSG,\n",
            "/usr/local/lib/python3.7/dist-packages/sklearn/linear_model/_logistic.py:818: ConvergenceWarning: lbfgs failed to converge (status=1):\n",
            "STOP: TOTAL NO. of ITERATIONS REACHED LIMIT.\n",
            "\n",
            "Increase the number of iterations (max_iter) or scale the data as shown in:\n",
            "    https://scikit-learn.org/stable/modules/preprocessing.html\n",
            "Please also refer to the documentation for alternative solver options:\n",
            "    https://scikit-learn.org/stable/modules/linear_model.html#logistic-regression\n",
            "  extra_warning_msg=_LOGISTIC_SOLVER_CONVERGENCE_MSG,\n",
            "/usr/local/lib/python3.7/dist-packages/sklearn/linear_model/_logistic.py:818: ConvergenceWarning: lbfgs failed to converge (status=1):\n",
            "STOP: TOTAL NO. of ITERATIONS REACHED LIMIT.\n",
            "\n",
            "Increase the number of iterations (max_iter) or scale the data as shown in:\n",
            "    https://scikit-learn.org/stable/modules/preprocessing.html\n",
            "Please also refer to the documentation for alternative solver options:\n",
            "    https://scikit-learn.org/stable/modules/linear_model.html#logistic-regression\n",
            "  extra_warning_msg=_LOGISTIC_SOLVER_CONVERGENCE_MSG,\n",
            "/usr/local/lib/python3.7/dist-packages/sklearn/linear_model/_logistic.py:818: ConvergenceWarning: lbfgs failed to converge (status=1):\n",
            "STOP: TOTAL NO. of ITERATIONS REACHED LIMIT.\n",
            "\n",
            "Increase the number of iterations (max_iter) or scale the data as shown in:\n",
            "    https://scikit-learn.org/stable/modules/preprocessing.html\n",
            "Please also refer to the documentation for alternative solver options:\n",
            "    https://scikit-learn.org/stable/modules/linear_model.html#logistic-regression\n",
            "  extra_warning_msg=_LOGISTIC_SOLVER_CONVERGENCE_MSG,\n",
            "/usr/local/lib/python3.7/dist-packages/sklearn/linear_model/_logistic.py:818: ConvergenceWarning: lbfgs failed to converge (status=1):\n",
            "STOP: TOTAL NO. of ITERATIONS REACHED LIMIT.\n",
            "\n",
            "Increase the number of iterations (max_iter) or scale the data as shown in:\n",
            "    https://scikit-learn.org/stable/modules/preprocessing.html\n",
            "Please also refer to the documentation for alternative solver options:\n",
            "    https://scikit-learn.org/stable/modules/linear_model.html#logistic-regression\n",
            "  extra_warning_msg=_LOGISTIC_SOLVER_CONVERGENCE_MSG,\n",
            "/usr/local/lib/python3.7/dist-packages/sklearn/linear_model/_logistic.py:818: ConvergenceWarning: lbfgs failed to converge (status=1):\n",
            "STOP: TOTAL NO. of ITERATIONS REACHED LIMIT.\n",
            "\n",
            "Increase the number of iterations (max_iter) or scale the data as shown in:\n",
            "    https://scikit-learn.org/stable/modules/preprocessing.html\n",
            "Please also refer to the documentation for alternative solver options:\n",
            "    https://scikit-learn.org/stable/modules/linear_model.html#logistic-regression\n",
            "  extra_warning_msg=_LOGISTIC_SOLVER_CONVERGENCE_MSG,\n"
          ]
        },
        {
          "data": {
            "text/html": [
              "\n",
              "  <div id=\"df-84bb45a5-e3be-4bb3-860a-518e9b320778\">\n",
              "    <div class=\"colab-df-container\">\n",
              "      <div>\n",
              "<style scoped>\n",
              "    .dataframe tbody tr th:only-of-type {\n",
              "        vertical-align: middle;\n",
              "    }\n",
              "\n",
              "    .dataframe tbody tr th {\n",
              "        vertical-align: top;\n",
              "    }\n",
              "\n",
              "    .dataframe thead th {\n",
              "        text-align: right;\n",
              "    }\n",
              "</style>\n",
              "<table border=\"1\" class=\"dataframe\">\n",
              "  <thead>\n",
              "    <tr style=\"text-align: right;\">\n",
              "      <th></th>\n",
              "      <th>fit_time</th>\n",
              "      <th>score_time</th>\n",
              "      <th>test_score</th>\n",
              "      <th>train_score</th>\n",
              "    </tr>\n",
              "  </thead>\n",
              "  <tbody>\n",
              "    <tr>\n",
              "      <th>case1</th>\n",
              "      <td>6.722076</td>\n",
              "      <td>0.005565</td>\n",
              "      <td>0.790132</td>\n",
              "      <td>0.874070</td>\n",
              "    </tr>\n",
              "    <tr>\n",
              "      <th>case2</th>\n",
              "      <td>6.826909</td>\n",
              "      <td>0.002578</td>\n",
              "      <td>0.834404</td>\n",
              "      <td>0.868136</td>\n",
              "    </tr>\n",
              "    <tr>\n",
              "      <th>case3</th>\n",
              "      <td>6.554843</td>\n",
              "      <td>0.002740</td>\n",
              "      <td>0.837445</td>\n",
              "      <td>0.869639</td>\n",
              "    </tr>\n",
              "    <tr>\n",
              "      <th>case4</th>\n",
              "      <td>6.262217</td>\n",
              "      <td>0.002767</td>\n",
              "      <td>0.827644</td>\n",
              "      <td>0.871028</td>\n",
              "    </tr>\n",
              "    <tr>\n",
              "      <th>case5</th>\n",
              "      <td>6.831085</td>\n",
              "      <td>0.002699</td>\n",
              "      <td>0.822913</td>\n",
              "      <td>0.870089</td>\n",
              "    </tr>\n",
              "    <tr>\n",
              "      <th>case6</th>\n",
              "      <td>6.550723</td>\n",
              "      <td>0.002854</td>\n",
              "      <td>0.836376</td>\n",
              "      <td>0.869456</td>\n",
              "    </tr>\n",
              "    <tr>\n",
              "      <th>case7</th>\n",
              "      <td>6.439945</td>\n",
              "      <td>0.002744</td>\n",
              "      <td>0.832319</td>\n",
              "      <td>0.870357</td>\n",
              "    </tr>\n",
              "    <tr>\n",
              "      <th>case8</th>\n",
              "      <td>6.770213</td>\n",
              "      <td>0.002920</td>\n",
              "      <td>0.821163</td>\n",
              "      <td>0.869568</td>\n",
              "    </tr>\n",
              "    <tr>\n",
              "      <th>case9</th>\n",
              "      <td>6.681714</td>\n",
              "      <td>0.002824</td>\n",
              "      <td>0.803245</td>\n",
              "      <td>0.871747</td>\n",
              "    </tr>\n",
              "    <tr>\n",
              "      <th>case10</th>\n",
              "      <td>7.063304</td>\n",
              "      <td>0.002820</td>\n",
              "      <td>0.781947</td>\n",
              "      <td>0.874263</td>\n",
              "    </tr>\n",
              "    <tr>\n",
              "      <th>0</th>\n",
              "      <td>6.670303</td>\n",
              "      <td>0.003051</td>\n",
              "      <td>0.818759</td>\n",
              "      <td>0.870835</td>\n",
              "    </tr>\n",
              "  </tbody>\n",
              "</table>\n",
              "</div>\n",
              "      <button class=\"colab-df-convert\" onclick=\"convertToInteractive('df-84bb45a5-e3be-4bb3-860a-518e9b320778')\"\n",
              "              title=\"Convert this dataframe to an interactive table.\"\n",
              "              style=\"display:none;\">\n",
              "        \n",
              "  <svg xmlns=\"http://www.w3.org/2000/svg\" height=\"24px\"viewBox=\"0 0 24 24\"\n",
              "       width=\"24px\">\n",
              "    <path d=\"M0 0h24v24H0V0z\" fill=\"none\"/>\n",
              "    <path d=\"M18.56 5.44l.94 2.06.94-2.06 2.06-.94-2.06-.94-.94-2.06-.94 2.06-2.06.94zm-11 1L8.5 8.5l.94-2.06 2.06-.94-2.06-.94L8.5 2.5l-.94 2.06-2.06.94zm10 10l.94 2.06.94-2.06 2.06-.94-2.06-.94-.94-2.06-.94 2.06-2.06.94z\"/><path d=\"M17.41 7.96l-1.37-1.37c-.4-.4-.92-.59-1.43-.59-.52 0-1.04.2-1.43.59L10.3 9.45l-7.72 7.72c-.78.78-.78 2.05 0 2.83L4 21.41c.39.39.9.59 1.41.59.51 0 1.02-.2 1.41-.59l7.78-7.78 2.81-2.81c.8-.78.8-2.07 0-2.86zM5.41 20L4 18.59l7.72-7.72 1.47 1.35L5.41 20z\"/>\n",
              "  </svg>\n",
              "      </button>\n",
              "      \n",
              "  <style>\n",
              "    .colab-df-container {\n",
              "      display:flex;\n",
              "      flex-wrap:wrap;\n",
              "      gap: 12px;\n",
              "    }\n",
              "\n",
              "    .colab-df-convert {\n",
              "      background-color: #E8F0FE;\n",
              "      border: none;\n",
              "      border-radius: 50%;\n",
              "      cursor: pointer;\n",
              "      display: none;\n",
              "      fill: #1967D2;\n",
              "      height: 32px;\n",
              "      padding: 0 0 0 0;\n",
              "      width: 32px;\n",
              "    }\n",
              "\n",
              "    .colab-df-convert:hover {\n",
              "      background-color: #E2EBFA;\n",
              "      box-shadow: 0px 1px 2px rgba(60, 64, 67, 0.3), 0px 1px 3px 1px rgba(60, 64, 67, 0.15);\n",
              "      fill: #174EA6;\n",
              "    }\n",
              "\n",
              "    [theme=dark] .colab-df-convert {\n",
              "      background-color: #3B4455;\n",
              "      fill: #D2E3FC;\n",
              "    }\n",
              "\n",
              "    [theme=dark] .colab-df-convert:hover {\n",
              "      background-color: #434B5C;\n",
              "      box-shadow: 0px 1px 3px 1px rgba(0, 0, 0, 0.15);\n",
              "      filter: drop-shadow(0px 1px 2px rgba(0, 0, 0, 0.3));\n",
              "      fill: #FFFFFF;\n",
              "    }\n",
              "  </style>\n",
              "\n",
              "      <script>\n",
              "        const buttonEl =\n",
              "          document.querySelector('#df-84bb45a5-e3be-4bb3-860a-518e9b320778 button.colab-df-convert');\n",
              "        buttonEl.style.display =\n",
              "          google.colab.kernel.accessAllowed ? 'block' : 'none';\n",
              "\n",
              "        async function convertToInteractive(key) {\n",
              "          const element = document.querySelector('#df-84bb45a5-e3be-4bb3-860a-518e9b320778');\n",
              "          const dataTable =\n",
              "            await google.colab.kernel.invokeFunction('convertToInteractive',\n",
              "                                                     [key], {});\n",
              "          if (!dataTable) return;\n",
              "\n",
              "          const docLinkHtml = 'Like what you see? Visit the ' +\n",
              "            '<a target=\"_blank\" href=https://colab.research.google.com/notebooks/data_table.ipynb>data table notebook</a>'\n",
              "            + ' to learn more about interactive tables.';\n",
              "          element.innerHTML = '';\n",
              "          dataTable['output_type'] = 'display_data';\n",
              "          await google.colab.output.renderOutput(dataTable, element);\n",
              "          const docLink = document.createElement('div');\n",
              "          docLink.innerHTML = docLinkHtml;\n",
              "          element.appendChild(docLink);\n",
              "        }\n",
              "      </script>\n",
              "    </div>\n",
              "  </div>\n",
              "  "
            ],
            "text/plain": [
              "        fit_time  score_time  test_score  train_score\n",
              "case1   6.722076    0.005565    0.790132     0.874070\n",
              "case2   6.826909    0.002578    0.834404     0.868136\n",
              "case3   6.554843    0.002740    0.837445     0.869639\n",
              "case4   6.262217    0.002767    0.827644     0.871028\n",
              "case5   6.831085    0.002699    0.822913     0.870089\n",
              "case6   6.550723    0.002854    0.836376     0.869456\n",
              "case7   6.439945    0.002744    0.832319     0.870357\n",
              "case8   6.770213    0.002920    0.821163     0.869568\n",
              "case9   6.681714    0.002824    0.803245     0.871747\n",
              "case10  7.063304    0.002820    0.781947     0.874263\n",
              "0       6.670303    0.003051    0.818759     0.870835"
            ]
          },
          "execution_count": 29,
          "metadata": {},
          "output_type": "execute_result"
        }
      ],
      "source": [
        "#로지스틱 회귀 모델 교차검증\n",
        "from sklearn.model_selection import cross_validate\n",
        "clf = LogisticRegression()\n",
        "res = cross_validate(clf,X_tfidf, y, return_train_score=True, cv=10)\n",
        "\n",
        "make_df(res)\n",
        "#10번 교차검증 결과 시각화 \n",
        "# lgr_score = pd.DataFrame(res, index = ['case1', 'case2', 'case3', 'case4', 'case5', 'case6', 'case7', 'case8', 'case9', 'case10'])\n",
        "# lgr_score\n",
        "\n",
        "#각 모델별 교차검증 훈련,테스트 스코어를 평균내서 비교하면 어떤 모델이 가장 적합한지 선별가능"
      ]
    },
    {
      "cell_type": "code",
      "execution_count": null,
      "metadata": {
        "id": "areksCHd90Nm"
      },
      "outputs": [],
      "source": [
        "\n",
        "with open('./clf.pickle','wb') as f:\n",
        "  pickle.dump(clf,f)\n",
        "\n",
        "with open('./clf.pickle','rb') as f:\n",
        "  clf = pickle.load(f)"
      ]
    },
    {
      "cell_type": "markdown",
      "metadata": {
        "id": "5ixySgHHXlLz"
      },
      "source": [
        "## 랜덤 포레스트 교차검증"
      ]
    },
    {
      "cell_type": "code",
      "execution_count": null,
      "metadata": {
        "colab": {
          "base_uri": "https://localhost:8080/",
          "height": 394
        },
        "id": "cEEIvJYBWSiO",
        "outputId": "eccebf30-0abb-44a7-feb1-cd3981400dc1"
      },
      "outputs": [
        {
          "data": {
            "text/html": [
              "\n",
              "  <div id=\"df-0ed1ea39-e641-40d1-9403-253db8f1b7e8\">\n",
              "    <div class=\"colab-df-container\">\n",
              "      <div>\n",
              "<style scoped>\n",
              "    .dataframe tbody tr th:only-of-type {\n",
              "        vertical-align: middle;\n",
              "    }\n",
              "\n",
              "    .dataframe tbody tr th {\n",
              "        vertical-align: top;\n",
              "    }\n",
              "\n",
              "    .dataframe thead th {\n",
              "        text-align: right;\n",
              "    }\n",
              "</style>\n",
              "<table border=\"1\" class=\"dataframe\">\n",
              "  <thead>\n",
              "    <tr style=\"text-align: right;\">\n",
              "      <th></th>\n",
              "      <th>fit_time</th>\n",
              "      <th>score_time</th>\n",
              "      <th>test_score</th>\n",
              "      <th>train_score</th>\n",
              "    </tr>\n",
              "  </thead>\n",
              "  <tbody>\n",
              "    <tr>\n",
              "      <th>case1</th>\n",
              "      <td>46.663327</td>\n",
              "      <td>0.158845</td>\n",
              "      <td>0.780331</td>\n",
              "      <td>0.999587</td>\n",
              "    </tr>\n",
              "    <tr>\n",
              "      <th>case2</th>\n",
              "      <td>45.923320</td>\n",
              "      <td>0.151206</td>\n",
              "      <td>0.826969</td>\n",
              "      <td>0.999662</td>\n",
              "    </tr>\n",
              "    <tr>\n",
              "      <th>case3</th>\n",
              "      <td>45.814485</td>\n",
              "      <td>0.160588</td>\n",
              "      <td>0.816154</td>\n",
              "      <td>0.999624</td>\n",
              "    </tr>\n",
              "    <tr>\n",
              "      <th>case4</th>\n",
              "      <td>45.840475</td>\n",
              "      <td>0.159125</td>\n",
              "      <td>0.810071</td>\n",
              "      <td>0.999549</td>\n",
              "    </tr>\n",
              "    <tr>\n",
              "      <th>case5</th>\n",
              "      <td>44.972461</td>\n",
              "      <td>0.158377</td>\n",
              "      <td>0.814802</td>\n",
              "      <td>0.999624</td>\n",
              "    </tr>\n",
              "    <tr>\n",
              "      <th>case6</th>\n",
              "      <td>45.555356</td>\n",
              "      <td>0.157255</td>\n",
              "      <td>0.828600</td>\n",
              "      <td>0.999587</td>\n",
              "    </tr>\n",
              "    <tr>\n",
              "      <th>case7</th>\n",
              "      <td>44.846663</td>\n",
              "      <td>0.161781</td>\n",
              "      <td>0.816092</td>\n",
              "      <td>0.999549</td>\n",
              "    </tr>\n",
              "    <tr>\n",
              "      <th>case8</th>\n",
              "      <td>45.281709</td>\n",
              "      <td>0.163378</td>\n",
              "      <td>0.809669</td>\n",
              "      <td>0.999587</td>\n",
              "    </tr>\n",
              "    <tr>\n",
              "      <th>case9</th>\n",
              "      <td>44.986298</td>\n",
              "      <td>0.164357</td>\n",
              "      <td>0.785328</td>\n",
              "      <td>0.999549</td>\n",
              "    </tr>\n",
              "    <tr>\n",
              "      <th>case10</th>\n",
              "      <td>44.383894</td>\n",
              "      <td>0.164799</td>\n",
              "      <td>0.746450</td>\n",
              "      <td>0.999700</td>\n",
              "    </tr>\n",
              "    <tr>\n",
              "      <th>0</th>\n",
              "      <td>45.426799</td>\n",
              "      <td>0.159971</td>\n",
              "      <td>0.803447</td>\n",
              "      <td>0.999602</td>\n",
              "    </tr>\n",
              "  </tbody>\n",
              "</table>\n",
              "</div>\n",
              "      <button class=\"colab-df-convert\" onclick=\"convertToInteractive('df-0ed1ea39-e641-40d1-9403-253db8f1b7e8')\"\n",
              "              title=\"Convert this dataframe to an interactive table.\"\n",
              "              style=\"display:none;\">\n",
              "        \n",
              "  <svg xmlns=\"http://www.w3.org/2000/svg\" height=\"24px\"viewBox=\"0 0 24 24\"\n",
              "       width=\"24px\">\n",
              "    <path d=\"M0 0h24v24H0V0z\" fill=\"none\"/>\n",
              "    <path d=\"M18.56 5.44l.94 2.06.94-2.06 2.06-.94-2.06-.94-.94-2.06-.94 2.06-2.06.94zm-11 1L8.5 8.5l.94-2.06 2.06-.94-2.06-.94L8.5 2.5l-.94 2.06-2.06.94zm10 10l.94 2.06.94-2.06 2.06-.94-2.06-.94-.94-2.06-.94 2.06-2.06.94z\"/><path d=\"M17.41 7.96l-1.37-1.37c-.4-.4-.92-.59-1.43-.59-.52 0-1.04.2-1.43.59L10.3 9.45l-7.72 7.72c-.78.78-.78 2.05 0 2.83L4 21.41c.39.39.9.59 1.41.59.51 0 1.02-.2 1.41-.59l7.78-7.78 2.81-2.81c.8-.78.8-2.07 0-2.86zM5.41 20L4 18.59l7.72-7.72 1.47 1.35L5.41 20z\"/>\n",
              "  </svg>\n",
              "      </button>\n",
              "      \n",
              "  <style>\n",
              "    .colab-df-container {\n",
              "      display:flex;\n",
              "      flex-wrap:wrap;\n",
              "      gap: 12px;\n",
              "    }\n",
              "\n",
              "    .colab-df-convert {\n",
              "      background-color: #E8F0FE;\n",
              "      border: none;\n",
              "      border-radius: 50%;\n",
              "      cursor: pointer;\n",
              "      display: none;\n",
              "      fill: #1967D2;\n",
              "      height: 32px;\n",
              "      padding: 0 0 0 0;\n",
              "      width: 32px;\n",
              "    }\n",
              "\n",
              "    .colab-df-convert:hover {\n",
              "      background-color: #E2EBFA;\n",
              "      box-shadow: 0px 1px 2px rgba(60, 64, 67, 0.3), 0px 1px 3px 1px rgba(60, 64, 67, 0.15);\n",
              "      fill: #174EA6;\n",
              "    }\n",
              "\n",
              "    [theme=dark] .colab-df-convert {\n",
              "      background-color: #3B4455;\n",
              "      fill: #D2E3FC;\n",
              "    }\n",
              "\n",
              "    [theme=dark] .colab-df-convert:hover {\n",
              "      background-color: #434B5C;\n",
              "      box-shadow: 0px 1px 3px 1px rgba(0, 0, 0, 0.15);\n",
              "      filter: drop-shadow(0px 1px 2px rgba(0, 0, 0, 0.3));\n",
              "      fill: #FFFFFF;\n",
              "    }\n",
              "  </style>\n",
              "\n",
              "      <script>\n",
              "        const buttonEl =\n",
              "          document.querySelector('#df-0ed1ea39-e641-40d1-9403-253db8f1b7e8 button.colab-df-convert');\n",
              "        buttonEl.style.display =\n",
              "          google.colab.kernel.accessAllowed ? 'block' : 'none';\n",
              "\n",
              "        async function convertToInteractive(key) {\n",
              "          const element = document.querySelector('#df-0ed1ea39-e641-40d1-9403-253db8f1b7e8');\n",
              "          const dataTable =\n",
              "            await google.colab.kernel.invokeFunction('convertToInteractive',\n",
              "                                                     [key], {});\n",
              "          if (!dataTable) return;\n",
              "\n",
              "          const docLinkHtml = 'Like what you see? Visit the ' +\n",
              "            '<a target=\"_blank\" href=https://colab.research.google.com/notebooks/data_table.ipynb>data table notebook</a>'\n",
              "            + ' to learn more about interactive tables.';\n",
              "          element.innerHTML = '';\n",
              "          dataTable['output_type'] = 'display_data';\n",
              "          await google.colab.output.renderOutput(dataTable, element);\n",
              "          const docLink = document.createElement('div');\n",
              "          docLink.innerHTML = docLinkHtml;\n",
              "          element.appendChild(docLink);\n",
              "        }\n",
              "      </script>\n",
              "    </div>\n",
              "  </div>\n",
              "  "
            ],
            "text/plain": [
              "         fit_time  score_time  test_score  train_score\n",
              "case1   46.663327    0.158845    0.780331     0.999587\n",
              "case2   45.923320    0.151206    0.826969     0.999662\n",
              "case3   45.814485    0.160588    0.816154     0.999624\n",
              "case4   45.840475    0.159125    0.810071     0.999549\n",
              "case5   44.972461    0.158377    0.814802     0.999624\n",
              "case6   45.555356    0.157255    0.828600     0.999587\n",
              "case7   44.846663    0.161781    0.816092     0.999549\n",
              "case8   45.281709    0.163378    0.809669     0.999587\n",
              "case9   44.986298    0.164357    0.785328     0.999549\n",
              "case10  44.383894    0.164799    0.746450     0.999700\n",
              "0       45.426799    0.159971    0.803447     0.999602"
            ]
          },
          "execution_count": 30,
          "metadata": {},
          "output_type": "execute_result"
        }
      ],
      "source": [
        "# 랜덤 포레스트 교차검증 \n",
        "model_rf = RandomForestClassifier()\n",
        "re = cross_validate(model_rf, X_tfidf, y, return_train_score=True, cv=10)\n",
        "make_df(re)"
      ]
    },
    {
      "cell_type": "markdown",
      "metadata": {
        "id": "8CLsSq6O7Eup"
      },
      "source": [
        "## 나이브 베이즈 교차검증"
      ]
    },
    {
      "cell_type": "code",
      "execution_count": null,
      "metadata": {
        "colab": {
          "base_uri": "https://localhost:8080/",
          "height": 394
        },
        "id": "lDddFAf6kLH2",
        "outputId": "6d44eb6d-063a-45ac-a573-74a9569915d5"
      },
      "outputs": [
        {
          "data": {
            "text/html": [
              "\n",
              "  <div id=\"df-c4da6f8a-3d59-4221-a400-7221efe1bfcb\">\n",
              "    <div class=\"colab-df-container\">\n",
              "      <div>\n",
              "<style scoped>\n",
              "    .dataframe tbody tr th:only-of-type {\n",
              "        vertical-align: middle;\n",
              "    }\n",
              "\n",
              "    .dataframe tbody tr th {\n",
              "        vertical-align: top;\n",
              "    }\n",
              "\n",
              "    .dataframe thead th {\n",
              "        text-align: right;\n",
              "    }\n",
              "</style>\n",
              "<table border=\"1\" class=\"dataframe\">\n",
              "  <thead>\n",
              "    <tr style=\"text-align: right;\">\n",
              "      <th></th>\n",
              "      <th>fit_time</th>\n",
              "      <th>score_time</th>\n",
              "      <th>test_score</th>\n",
              "      <th>train_score</th>\n",
              "    </tr>\n",
              "  </thead>\n",
              "  <tbody>\n",
              "    <tr>\n",
              "      <th>case1</th>\n",
              "      <td>0.023812</td>\n",
              "      <td>0.001766</td>\n",
              "      <td>0.705644</td>\n",
              "      <td>0.776497</td>\n",
              "    </tr>\n",
              "    <tr>\n",
              "      <th>case2</th>\n",
              "      <td>0.022046</td>\n",
              "      <td>0.001789</td>\n",
              "      <td>0.743832</td>\n",
              "      <td>0.771389</td>\n",
              "    </tr>\n",
              "    <tr>\n",
              "      <th>case3</th>\n",
              "      <td>0.021967</td>\n",
              "      <td>0.001742</td>\n",
              "      <td>0.726259</td>\n",
              "      <td>0.773154</td>\n",
              "    </tr>\n",
              "    <tr>\n",
              "      <th>case4</th>\n",
              "      <td>0.021340</td>\n",
              "      <td>0.001771</td>\n",
              "      <td>0.733694</td>\n",
              "      <td>0.773717</td>\n",
              "    </tr>\n",
              "    <tr>\n",
              "      <th>case5</th>\n",
              "      <td>0.022130</td>\n",
              "      <td>0.001825</td>\n",
              "      <td>0.729638</td>\n",
              "      <td>0.772478</td>\n",
              "    </tr>\n",
              "    <tr>\n",
              "      <th>case6</th>\n",
              "      <td>0.021728</td>\n",
              "      <td>0.001683</td>\n",
              "      <td>0.741041</td>\n",
              "      <td>0.771473</td>\n",
              "    </tr>\n",
              "    <tr>\n",
              "      <th>case7</th>\n",
              "      <td>0.023111</td>\n",
              "      <td>0.001855</td>\n",
              "      <td>0.738675</td>\n",
              "      <td>0.771660</td>\n",
              "    </tr>\n",
              "    <tr>\n",
              "      <th>case8</th>\n",
              "      <td>0.021081</td>\n",
              "      <td>0.001916</td>\n",
              "      <td>0.753212</td>\n",
              "      <td>0.772336</td>\n",
              "    </tr>\n",
              "    <tr>\n",
              "      <th>case9</th>\n",
              "      <td>0.021101</td>\n",
              "      <td>0.001826</td>\n",
              "      <td>0.723462</td>\n",
              "      <td>0.772224</td>\n",
              "    </tr>\n",
              "    <tr>\n",
              "      <th>case10</th>\n",
              "      <td>0.024376</td>\n",
              "      <td>0.001977</td>\n",
              "      <td>0.717377</td>\n",
              "      <td>0.776505</td>\n",
              "    </tr>\n",
              "    <tr>\n",
              "      <th>0</th>\n",
              "      <td>0.022269</td>\n",
              "      <td>0.001815</td>\n",
              "      <td>0.731283</td>\n",
              "      <td>0.773143</td>\n",
              "    </tr>\n",
              "  </tbody>\n",
              "</table>\n",
              "</div>\n",
              "      <button class=\"colab-df-convert\" onclick=\"convertToInteractive('df-c4da6f8a-3d59-4221-a400-7221efe1bfcb')\"\n",
              "              title=\"Convert this dataframe to an interactive table.\"\n",
              "              style=\"display:none;\">\n",
              "        \n",
              "  <svg xmlns=\"http://www.w3.org/2000/svg\" height=\"24px\"viewBox=\"0 0 24 24\"\n",
              "       width=\"24px\">\n",
              "    <path d=\"M0 0h24v24H0V0z\" fill=\"none\"/>\n",
              "    <path d=\"M18.56 5.44l.94 2.06.94-2.06 2.06-.94-2.06-.94-.94-2.06-.94 2.06-2.06.94zm-11 1L8.5 8.5l.94-2.06 2.06-.94-2.06-.94L8.5 2.5l-.94 2.06-2.06.94zm10 10l.94 2.06.94-2.06 2.06-.94-2.06-.94-.94-2.06-.94 2.06-2.06.94z\"/><path d=\"M17.41 7.96l-1.37-1.37c-.4-.4-.92-.59-1.43-.59-.52 0-1.04.2-1.43.59L10.3 9.45l-7.72 7.72c-.78.78-.78 2.05 0 2.83L4 21.41c.39.39.9.59 1.41.59.51 0 1.02-.2 1.41-.59l7.78-7.78 2.81-2.81c.8-.78.8-2.07 0-2.86zM5.41 20L4 18.59l7.72-7.72 1.47 1.35L5.41 20z\"/>\n",
              "  </svg>\n",
              "      </button>\n",
              "      \n",
              "  <style>\n",
              "    .colab-df-container {\n",
              "      display:flex;\n",
              "      flex-wrap:wrap;\n",
              "      gap: 12px;\n",
              "    }\n",
              "\n",
              "    .colab-df-convert {\n",
              "      background-color: #E8F0FE;\n",
              "      border: none;\n",
              "      border-radius: 50%;\n",
              "      cursor: pointer;\n",
              "      display: none;\n",
              "      fill: #1967D2;\n",
              "      height: 32px;\n",
              "      padding: 0 0 0 0;\n",
              "      width: 32px;\n",
              "    }\n",
              "\n",
              "    .colab-df-convert:hover {\n",
              "      background-color: #E2EBFA;\n",
              "      box-shadow: 0px 1px 2px rgba(60, 64, 67, 0.3), 0px 1px 3px 1px rgba(60, 64, 67, 0.15);\n",
              "      fill: #174EA6;\n",
              "    }\n",
              "\n",
              "    [theme=dark] .colab-df-convert {\n",
              "      background-color: #3B4455;\n",
              "      fill: #D2E3FC;\n",
              "    }\n",
              "\n",
              "    [theme=dark] .colab-df-convert:hover {\n",
              "      background-color: #434B5C;\n",
              "      box-shadow: 0px 1px 3px 1px rgba(0, 0, 0, 0.15);\n",
              "      filter: drop-shadow(0px 1px 2px rgba(0, 0, 0, 0.3));\n",
              "      fill: #FFFFFF;\n",
              "    }\n",
              "  </style>\n",
              "\n",
              "      <script>\n",
              "        const buttonEl =\n",
              "          document.querySelector('#df-c4da6f8a-3d59-4221-a400-7221efe1bfcb button.colab-df-convert');\n",
              "        buttonEl.style.display =\n",
              "          google.colab.kernel.accessAllowed ? 'block' : 'none';\n",
              "\n",
              "        async function convertToInteractive(key) {\n",
              "          const element = document.querySelector('#df-c4da6f8a-3d59-4221-a400-7221efe1bfcb');\n",
              "          const dataTable =\n",
              "            await google.colab.kernel.invokeFunction('convertToInteractive',\n",
              "                                                     [key], {});\n",
              "          if (!dataTable) return;\n",
              "\n",
              "          const docLinkHtml = 'Like what you see? Visit the ' +\n",
              "            '<a target=\"_blank\" href=https://colab.research.google.com/notebooks/data_table.ipynb>data table notebook</a>'\n",
              "            + ' to learn more about interactive tables.';\n",
              "          element.innerHTML = '';\n",
              "          dataTable['output_type'] = 'display_data';\n",
              "          await google.colab.output.renderOutput(dataTable, element);\n",
              "          const docLink = document.createElement('div');\n",
              "          docLink.innerHTML = docLinkHtml;\n",
              "          element.appendChild(docLink);\n",
              "        }\n",
              "      </script>\n",
              "    </div>\n",
              "  </div>\n",
              "  "
            ],
            "text/plain": [
              "        fit_time  score_time  test_score  train_score\n",
              "case1   0.023812    0.001766    0.705644     0.776497\n",
              "case2   0.022046    0.001789    0.743832     0.771389\n",
              "case3   0.021967    0.001742    0.726259     0.773154\n",
              "case4   0.021340    0.001771    0.733694     0.773717\n",
              "case5   0.022130    0.001825    0.729638     0.772478\n",
              "case6   0.021728    0.001683    0.741041     0.771473\n",
              "case7   0.023111    0.001855    0.738675     0.771660\n",
              "case8   0.021081    0.001916    0.753212     0.772336\n",
              "case9   0.021101    0.001826    0.723462     0.772224\n",
              "case10  0.024376    0.001977    0.717377     0.776505\n",
              "0       0.022269    0.001815    0.731283     0.773143"
            ]
          },
          "execution_count": 31,
          "metadata": {},
          "output_type": "execute_result"
        }
      ],
      "source": [
        "from sklearn.naive_bayes import MultinomialNB\n",
        "NB_clf = MultinomialNB()\n",
        "r = cross_validate(NB_clf, X_tfidf, y, return_train_score=True, cv=10)\n",
        "make_df(r)\n"
      ]
    },
    {
      "cell_type": "markdown",
      "metadata": {
        "id": "7y7RJJNt6xJe"
      },
      "source": [
        "## SVC 교차검증"
      ]
    },
    {
      "cell_type": "code",
      "execution_count": null,
      "metadata": {
        "colab": {
          "base_uri": "https://localhost:8080/",
          "height": 394
        },
        "id": "B9rcy-6uBgLX",
        "outputId": "f0bb1c1b-9300-4760-cf9b-5e60c782ed6a"
      },
      "outputs": [
        {
          "data": {
            "text/html": [
              "\n",
              "  <div id=\"df-6e9b504f-6dfa-4799-ba1d-1274090f274f\">\n",
              "    <div class=\"colab-df-container\">\n",
              "      <div>\n",
              "<style scoped>\n",
              "    .dataframe tbody tr th:only-of-type {\n",
              "        vertical-align: middle;\n",
              "    }\n",
              "\n",
              "    .dataframe tbody tr th {\n",
              "        vertical-align: top;\n",
              "    }\n",
              "\n",
              "    .dataframe thead th {\n",
              "        text-align: right;\n",
              "    }\n",
              "</style>\n",
              "<table border=\"1\" class=\"dataframe\">\n",
              "  <thead>\n",
              "    <tr style=\"text-align: right;\">\n",
              "      <th></th>\n",
              "      <th>fit_time</th>\n",
              "      <th>score_time</th>\n",
              "      <th>test_score</th>\n",
              "      <th>train_score</th>\n",
              "    </tr>\n",
              "  </thead>\n",
              "  <tbody>\n",
              "    <tr>\n",
              "      <th>case1</th>\n",
              "      <td>0.922574</td>\n",
              "      <td>0.001765</td>\n",
              "      <td>0.785063</td>\n",
              "      <td>0.907609</td>\n",
              "    </tr>\n",
              "    <tr>\n",
              "      <th>case2</th>\n",
              "      <td>1.033095</td>\n",
              "      <td>0.001735</td>\n",
              "      <td>0.826969</td>\n",
              "      <td>0.903027</td>\n",
              "    </tr>\n",
              "    <tr>\n",
              "      <th>case3</th>\n",
              "      <td>0.979126</td>\n",
              "      <td>0.001700</td>\n",
              "      <td>0.827982</td>\n",
              "      <td>0.903440</td>\n",
              "    </tr>\n",
              "    <tr>\n",
              "      <th>case4</th>\n",
              "      <td>1.005578</td>\n",
              "      <td>0.001813</td>\n",
              "      <td>0.815478</td>\n",
              "      <td>0.901900</td>\n",
              "    </tr>\n",
              "    <tr>\n",
              "      <th>case5</th>\n",
              "      <td>0.948215</td>\n",
              "      <td>0.001772</td>\n",
              "      <td>0.811761</td>\n",
              "      <td>0.901412</td>\n",
              "    </tr>\n",
              "    <tr>\n",
              "      <th>case6</th>\n",
              "      <td>0.940682</td>\n",
              "      <td>0.001758</td>\n",
              "      <td>0.821163</td>\n",
              "      <td>0.903031</td>\n",
              "    </tr>\n",
              "    <tr>\n",
              "      <th>case7</th>\n",
              "      <td>0.997504</td>\n",
              "      <td>0.001850</td>\n",
              "      <td>0.818458</td>\n",
              "      <td>0.902730</td>\n",
              "    </tr>\n",
              "    <tr>\n",
              "      <th>case8</th>\n",
              "      <td>1.020128</td>\n",
              "      <td>0.001883</td>\n",
              "      <td>0.807302</td>\n",
              "      <td>0.902805</td>\n",
              "    </tr>\n",
              "    <tr>\n",
              "      <th>case9</th>\n",
              "      <td>0.971087</td>\n",
              "      <td>0.001832</td>\n",
              "      <td>0.792089</td>\n",
              "      <td>0.904683</td>\n",
              "    </tr>\n",
              "    <tr>\n",
              "      <th>case10</th>\n",
              "      <td>0.972591</td>\n",
              "      <td>0.001859</td>\n",
              "      <td>0.766396</td>\n",
              "      <td>0.907650</td>\n",
              "    </tr>\n",
              "    <tr>\n",
              "      <th>0</th>\n",
              "      <td>0.979058</td>\n",
              "      <td>0.001797</td>\n",
              "      <td>0.807266</td>\n",
              "      <td>0.903829</td>\n",
              "    </tr>\n",
              "  </tbody>\n",
              "</table>\n",
              "</div>\n",
              "      <button class=\"colab-df-convert\" onclick=\"convertToInteractive('df-6e9b504f-6dfa-4799-ba1d-1274090f274f')\"\n",
              "              title=\"Convert this dataframe to an interactive table.\"\n",
              "              style=\"display:none;\">\n",
              "        \n",
              "  <svg xmlns=\"http://www.w3.org/2000/svg\" height=\"24px\"viewBox=\"0 0 24 24\"\n",
              "       width=\"24px\">\n",
              "    <path d=\"M0 0h24v24H0V0z\" fill=\"none\"/>\n",
              "    <path d=\"M18.56 5.44l.94 2.06.94-2.06 2.06-.94-2.06-.94-.94-2.06-.94 2.06-2.06.94zm-11 1L8.5 8.5l.94-2.06 2.06-.94-2.06-.94L8.5 2.5l-.94 2.06-2.06.94zm10 10l.94 2.06.94-2.06 2.06-.94-2.06-.94-.94-2.06-.94 2.06-2.06.94z\"/><path d=\"M17.41 7.96l-1.37-1.37c-.4-.4-.92-.59-1.43-.59-.52 0-1.04.2-1.43.59L10.3 9.45l-7.72 7.72c-.78.78-.78 2.05 0 2.83L4 21.41c.39.39.9.59 1.41.59.51 0 1.02-.2 1.41-.59l7.78-7.78 2.81-2.81c.8-.78.8-2.07 0-2.86zM5.41 20L4 18.59l7.72-7.72 1.47 1.35L5.41 20z\"/>\n",
              "  </svg>\n",
              "      </button>\n",
              "      \n",
              "  <style>\n",
              "    .colab-df-container {\n",
              "      display:flex;\n",
              "      flex-wrap:wrap;\n",
              "      gap: 12px;\n",
              "    }\n",
              "\n",
              "    .colab-df-convert {\n",
              "      background-color: #E8F0FE;\n",
              "      border: none;\n",
              "      border-radius: 50%;\n",
              "      cursor: pointer;\n",
              "      display: none;\n",
              "      fill: #1967D2;\n",
              "      height: 32px;\n",
              "      padding: 0 0 0 0;\n",
              "      width: 32px;\n",
              "    }\n",
              "\n",
              "    .colab-df-convert:hover {\n",
              "      background-color: #E2EBFA;\n",
              "      box-shadow: 0px 1px 2px rgba(60, 64, 67, 0.3), 0px 1px 3px 1px rgba(60, 64, 67, 0.15);\n",
              "      fill: #174EA6;\n",
              "    }\n",
              "\n",
              "    [theme=dark] .colab-df-convert {\n",
              "      background-color: #3B4455;\n",
              "      fill: #D2E3FC;\n",
              "    }\n",
              "\n",
              "    [theme=dark] .colab-df-convert:hover {\n",
              "      background-color: #434B5C;\n",
              "      box-shadow: 0px 1px 3px 1px rgba(0, 0, 0, 0.15);\n",
              "      filter: drop-shadow(0px 1px 2px rgba(0, 0, 0, 0.3));\n",
              "      fill: #FFFFFF;\n",
              "    }\n",
              "  </style>\n",
              "\n",
              "      <script>\n",
              "        const buttonEl =\n",
              "          document.querySelector('#df-6e9b504f-6dfa-4799-ba1d-1274090f274f button.colab-df-convert');\n",
              "        buttonEl.style.display =\n",
              "          google.colab.kernel.accessAllowed ? 'block' : 'none';\n",
              "\n",
              "        async function convertToInteractive(key) {\n",
              "          const element = document.querySelector('#df-6e9b504f-6dfa-4799-ba1d-1274090f274f');\n",
              "          const dataTable =\n",
              "            await google.colab.kernel.invokeFunction('convertToInteractive',\n",
              "                                                     [key], {});\n",
              "          if (!dataTable) return;\n",
              "\n",
              "          const docLinkHtml = 'Like what you see? Visit the ' +\n",
              "            '<a target=\"_blank\" href=https://colab.research.google.com/notebooks/data_table.ipynb>data table notebook</a>'\n",
              "            + ' to learn more about interactive tables.';\n",
              "          element.innerHTML = '';\n",
              "          dataTable['output_type'] = 'display_data';\n",
              "          await google.colab.output.renderOutput(dataTable, element);\n",
              "          const docLink = document.createElement('div');\n",
              "          docLink.innerHTML = docLinkHtml;\n",
              "          element.appendChild(docLink);\n",
              "        }\n",
              "      </script>\n",
              "    </div>\n",
              "  </div>\n",
              "  "
            ],
            "text/plain": [
              "        fit_time  score_time  test_score  train_score\n",
              "case1   0.922574    0.001765    0.785063     0.907609\n",
              "case2   1.033095    0.001735    0.826969     0.903027\n",
              "case3   0.979126    0.001700    0.827982     0.903440\n",
              "case4   1.005578    0.001813    0.815478     0.901900\n",
              "case5   0.948215    0.001772    0.811761     0.901412\n",
              "case6   0.940682    0.001758    0.821163     0.903031\n",
              "case7   0.997504    0.001850    0.818458     0.902730\n",
              "case8   1.020128    0.001883    0.807302     0.902805\n",
              "case9   0.971087    0.001832    0.792089     0.904683\n",
              "case10  0.972591    0.001859    0.766396     0.907650\n",
              "0       0.979058    0.001797    0.807266     0.903829"
            ]
          },
          "execution_count": 32,
          "metadata": {},
          "output_type": "execute_result"
        }
      ],
      "source": [
        "# LinearSVC모델 \n",
        "\n",
        "from sklearn import svm\n",
        "from sklearn.svm import SVC\n",
        "from sklearn.svm import LinearSVC\n",
        "\n",
        "l_svc = LinearSVC()\n",
        "r = cross_validate(l_svc, X_tfidf, y, return_train_score=True, cv=10)\n",
        "make_df(r)\n",
        "\n",
        "\n",
        "# model = LinearSVC(C=1000)\n",
        "# model.fit(X_train_tfidf, y_train)\n",
        "# print(model.score(X_train_tfidf, y_train))\n",
        "# print(model.score(X_test_tfidf, y_test))\n",
        "    "
      ]
    },
    {
      "cell_type": "code",
      "execution_count": null,
      "metadata": {
        "id": "ERVoUHcMKWQY"
      },
      "outputs": [],
      "source": [
        "#SVC모델 \n",
        "svc = SVC()\n",
        "rr = cross_validate(svc, X_tfidf, y, return_train_score=True, cv=10)\n",
        "make_df(rr)\n"
      ]
    },
    {
      "cell_type": "markdown",
      "metadata": {
        "id": "0d4mvW40Cz4e"
      },
      "source": [
        "# 그리드 서치로 모델 최적화"
      ]
    },
    {
      "cell_type": "code",
      "execution_count": null,
      "metadata": {
        "id": "W5qGKCfkzBUN"
      },
      "outputs": [],
      "source": [
        "# GridSearchCV 클래스의 생성자 정리\n",
        "\n",
        "# -estimator : classifier, regressor, pipeline 등 가능\n",
        "\n",
        "# -param_grid : 튜닝을 위해 파라미터, 사용될 파라미터를 dictionary 형태로 만들어서 넣는다.\n",
        "\n",
        "# -scoring : 예측 성능을 측정할 평가 방법을 넣는다. 보통 accuracy 로 지정하여서 정확도로 성능 평가를 한다.\n",
        "\n",
        "# -cv : 교차 검증에서 몇개로 분할되는지 지정한다.\n",
        "\n",
        "# -refit : True가 디폴트로 True로 하면 최적의 하이퍼 파라미터를 찾아서 재학습 시킨다."
      ]
    },
    {
      "cell_type": "markdown",
      "metadata": {
        "id": "EAxLMyMoUJjQ"
      },
      "source": [
        "## 로지스틱 회귀 그리드 서치 "
      ]
    },
    {
      "cell_type": "code",
      "execution_count": null,
      "metadata": {
        "id": "re_H14BYH3ZT"
      },
      "outputs": [],
      "source": [
        "# okt = Okt()\n",
        "\n",
        "#okt.nouns를 tokenizer로 이용\n",
        "# tfidf = TfidfVectorizer(tokenizer=okt.nouns, max_features=8000, min_df=50, max_df=0.5) \n",
        "\n",
        "# X_train_tfidf = tfidf.fit_transform(X_train)\n",
        "# X_test_tfidf = tfidf.transform(X_test)\n",
        "\n",
        "# 로지스틱 회귀 - 그리드서치\n",
        "clf = LogisticRegression()\n",
        "\n",
        "lgs_param_grid = {'penalty': ['l1','l2'], \n",
        "                  'C': [0.001, 0.01, 0.1, 1, 5, 10, 50, 100],\n",
        "                  'max_iter' : [100,300,500,700,1000]}\n",
        "\n",
        "# Gradient boost 객체 생성\n",
        "gsLGS = GridSearchCV(clf, param_grid = lgs_param_grid, cv=5, n_jobs=-1, verbose=2)\n",
        "\n",
        "# Grid Search 실행\n",
        "gsLGS.fit(X_train_tfidf, y_train)\n"
      ]
    },
    {
      "cell_type": "code",
      "execution_count": null,
      "metadata": {
        "colab": {
          "base_uri": "https://localhost:8080/"
        },
        "id": "bOX60LGYva-e",
        "outputId": "366700d5-1d46-4116-c3b8-18bb2ece7443"
      },
      "outputs": [
        {
          "name": "stdout",
          "output_type": "stream",
          "text": [
            "0.8727606354724998\n",
            "0.8166967102298333\n",
            "{'C': 1, 'max_iter': 300, 'penalty': 'l2'}\n"
          ]
        }
      ],
      "source": [
        "print(gsLGS.score(X_train_tfidf, y_train))\n",
        "print(gsLGS.score(X_test_tfidf, y_test))\n",
        "print(gsLGS.best_params_)"
      ]
    },
    {
      "cell_type": "markdown",
      "metadata": {
        "id": "tTRCG196ULWl"
      },
      "source": [
        "## 랜덤 포레스트 그리드 서치"
      ]
    },
    {
      "cell_type": "code",
      "execution_count": null,
      "metadata": {
        "colab": {
          "base_uri": "https://localhost:8080/"
        },
        "id": "MwObqSj-OzSG",
        "outputId": "ac6ffe97-cb04-405a-c4e4-d4385965c9d4"
      },
      "outputs": [
        {
          "name": "stdout",
          "output_type": "stream",
          "text": [
            "Fitting 5 folds for each of 81 candidates, totalling 405 fits\n",
            "0.9996619827128301\n",
            "{'max_depth': 70, 'n_estimators': 90}\n"
          ]
        }
      ],
      "source": [
        "model_rf = RandomForestClassifier()\n",
        "rf_param_grid = {'n_estimators' : range(10,100,10), \n",
        "                  'max_depth' : range(10,100,10),\n",
        "                  }\n",
        "\n",
        "#'max_feature' : []\n",
        "# Gradient boost 객체 생성\n",
        "gsRFC = GridSearchCV(model_rf, param_grid = rf_param_grid, cv=5, n_jobs=-1, verbose=2)\n",
        "\n",
        "# Grid Search 실행\n",
        "gsRFC.fit(X_train_tfidf, y_train)\n",
        "\n",
        "print(gsRFC.score(X_train_tfidf, y_train))\n",
        "print(gsRFC.best_params_)"
      ]
    },
    {
      "cell_type": "code",
      "execution_count": null,
      "metadata": {
        "colab": {
          "base_uri": "https://localhost:8080/"
        },
        "id": "lhgRQeT1vTak",
        "outputId": "52db36ed-d692-42a2-894a-64abc3d2675d"
      },
      "outputs": [
        {
          "name": "stdout",
          "output_type": "stream",
          "text": [
            "0.9996619827128301\n",
            "0.8100495718792249\n",
            "{'max_depth': 70, 'n_estimators': 90}\n"
          ]
        }
      ],
      "source": [
        "print(gsRFC.score(X_train_tfidf, y_train))\n",
        "print(gsRFC.score(X_test_tfidf, y_test))\n",
        "print(gsRFC.best_params_)"
      ]
    },
    {
      "cell_type": "markdown",
      "metadata": {
        "id": "VlSuR28cWbZw"
      },
      "source": [
        "## SVC  그리드 서치"
      ]
    },
    {
      "cell_type": "code",
      "execution_count": null,
      "metadata": {
        "colab": {
          "background_save": true,
          "base_uri": "https://localhost:8080/"
        },
        "id": "ya6opBaVUvj6",
        "outputId": "1f1800dc-6eee-4e08-b1c2-a71360ff0990"
      },
      "outputs": [
        {
          "name": "stdout",
          "output_type": "stream",
          "text": [
            "Fitting 5 folds for each of 2 candidates, totalling 10 fits\n",
            "0.4704234873726399\n",
            "0.4685669220369536\n",
            "{'C': 0.1, 'gamma': 0.001, 'kernel': 'rbf'}\n"
          ]
        }
      ],
      "source": [
        "#너무 오래걸림.\n",
        "l_svc = SVC()\n",
        "svc_param_grid = {'kernel': ['rbf'], \n",
        "                  'gamma': [ 0.001],\n",
        "                  'C': [0.1, 1]}\n",
        "\n",
        "gsSVC = GridSearchCV(l_svc, param_grid = svc_param_grid, cv=5, scoring=\"accuracy\", n_jobs=-1, verbose = 1)\n",
        "\n",
        "# Grid Search 실행\n",
        "gsSVC.fit(X_train_tfidf,y_train)\n",
        "\n",
        "print(gsSVC.score(X_train_tfidf, y_train))\n",
        "print(gsSVC.score(X_test_tfidf, y_test))\n",
        "print(gsSVC.best_params_)"
      ]
    },
    {
      "cell_type": "markdown",
      "metadata": {
        "id": "fSqee-Ccs-iy"
      },
      "source": [
        "## 나이브 베이즈 그리드 서치"
      ]
    },
    {
      "cell_type": "code",
      "execution_count": null,
      "metadata": {
        "colab": {
          "base_uri": "https://localhost:8080/"
        },
        "id": "f2P3IoY1lNeQ",
        "outputId": "2d2c9105-4a95-4e3b-a389-645c65bfc7fe"
      },
      "outputs": [
        {
          "name": "stdout",
          "output_type": "stream",
          "text": [
            "Fitting 5 folds for each of 4 candidates, totalling 20 fits\n",
            "[CV] END .........................................alpha=0.01; total time=   0.0s\n",
            "[CV] END .........................................alpha=0.01; total time=   0.0s\n",
            "[CV] END .........................................alpha=0.01; total time=   0.0s\n",
            "[CV] END .........................................alpha=0.01; total time=   0.0s\n",
            "[CV] END .........................................alpha=0.01; total time=   0.0s\n",
            "[CV] END ..........................................alpha=0.1; total time=   0.0s\n",
            "[CV] END ..........................................alpha=0.1; total time=   0.0s\n",
            "[CV] END ..........................................alpha=0.1; total time=   0.0s\n",
            "[CV] END ..........................................alpha=0.1; total time=   0.0s\n",
            "[CV] END ..........................................alpha=0.1; total time=   0.0s\n",
            "[CV] END ............................................alpha=1; total time=   0.0s\n",
            "[CV] END ............................................alpha=1; total time=   0.0s\n",
            "[CV] END ............................................alpha=1; total time=   0.0s\n",
            "[CV] END ............................................alpha=1; total time=   0.0s\n",
            "[CV] END ............................................alpha=1; total time=   0.0s\n",
            "[CV] END ...........................................alpha=10; total time=   0.0s\n",
            "[CV] END ...........................................alpha=10; total time=   0.0s\n",
            "[CV] END ...........................................alpha=10; total time=   0.0s\n",
            "[CV] END ...........................................alpha=10; total time=   0.0s\n",
            "[CV] END ...........................................alpha=10; total time=   0.0s\n",
            "0.802646192476701\n",
            "0.732424515547544\n",
            "{'alpha': 0.1}\n"
          ]
        }
      ],
      "source": [
        "NB_clf = MultinomialNB()\n",
        "nb_param_grid = {'alpha':[0.01, 0.1, 1, 10]}\n",
        "gsNB = GridSearchCV(NB_clf, param_grid = nb_param_grid, cv=5,  verbose = 2)\n",
        "gsNB.fit(X_train_tfidf,y_train)\n",
        "\n",
        "print(gsNB.score(X_train_tfidf, y_train))\n",
        "print(gsNB.score(X_test_tfidf, y_test))\n",
        "print(gsNB.best_params_)"
      ]
    },
    {
      "cell_type": "markdown",
      "metadata": {
        "id": "S2NOF2W7E8WP"
      },
      "source": [
        "# 모델 작동"
      ]
    },
    {
      "cell_type": "markdown",
      "metadata": {
        "id": "9I18jCki7bH7"
      },
      "source": [
        "## 로지스틱 회귀 \n",
        "\n",
        "---\n",
        "\n"
      ]
    },
    {
      "cell_type": "code",
      "execution_count": null,
      "metadata": {
        "colab": {
          "base_uri": "https://localhost:8080/"
        },
        "id": "6S_Rg4-HWMuY",
        "outputId": "331061ad-78eb-465d-a848-725876e3e507"
      },
      "outputs": [
        {
          "name": "stdout",
          "output_type": "stream",
          "text": [
            "#Train set score: 0.873\n",
            "#Test set score: 0.817\n"
          ]
        }
      ],
      "source": [
        "#로지스틱 회귀\n",
        "\n",
        "clf = LogisticRegression(C=1 , max_iter=300) # 모델 결정\n",
        "clf.fit(X_train_tfidf, y_train) # 모델 학습\n",
        "print('#Train set score: {:.3f}'.format(clf.score(X_train_tfidf, y_train))) # train data score\n",
        "print('#Test set score: {:.3f}'.format(clf.score(X_test_tfidf, y_test))) # test data score\n",
        "\n",
        "\n",
        "# 로지스틱 회귀모델은 L2규제(C=1.0이 기본)를 기본으로 하며, 원한다면 penalty = l1으로 바꾸어 L1 규제를 사용가능 \n",
        "# C값이 작아졌을 때, 즉 규제가 강화되었을 때는, 가중치 변화가 거의 0에 수렴, 비용(cost)값이 작아졌다고 보시면 됨.\n",
        "# 반면 C의 값이 커져서 규제가 약화된다면, 학습률에 따라서 가중치의 변화가 커짐.\n",
        "\n",
        "# 과적합 해결방법 \n",
        "# 데이터의 수를 늘린다.\n",
        "# 모델의 Complexity를 줄인다, 파라미터 수가 적은 모델을 선택하거나, 모델에 제약을 가하여 단순화\n",
        "# Regularization을 사용한다\n"
      ]
    },
    {
      "cell_type": "code",
      "execution_count": null,
      "metadata": {
        "id": "6N15-wVQZQpP"
      },
      "outputs": [],
      "source": [
        "for content in zip(y_test[:30], clf.predict(X_test_tfidf[:30]), X_test[:30]):\n",
        "    print(content)"
      ]
    },
    {
      "cell_type": "markdown",
      "metadata": {
        "id": "ULeqFwv47pDS"
      },
      "source": [
        "## 랜덤 포레스트 "
      ]
    },
    {
      "cell_type": "code",
      "execution_count": null,
      "metadata": {
        "colab": {
          "base_uri": "https://localhost:8080/"
        },
        "id": "GtwOGaDJdFhX",
        "outputId": "2d488777-e0e3-4402-d364-270be1df814d"
      },
      "outputs": [
        {
          "name": "stdout",
          "output_type": "stream",
          "text": [
            "Train set score: 1.000\n",
            "Test set score: 0.812\n"
          ]
        }
      ],
      "source": [
        "from sklearn.ensemble import RandomForestClassifier\n",
        "\n",
        "#스코어에 주로 영향을 끼치는 요소는 뎁스\n",
        "model_rf = RandomForestClassifier(n_estimators = 90, max_depth=70)\n",
        "model_rf.fit(X_train_tfidf, y_train)\n",
        "print('Train set score: {:.3f}'.format(model_rf.score(X_train_tfidf, y_train)))\n",
        "print('Test set score: {:.3f}'.format(model_rf.score(X_test_tfidf, y_test)))\n",
        "\n"
      ]
    },
    {
      "cell_type": "markdown",
      "metadata": {
        "id": "Q3K1tWo77xFx"
      },
      "source": [
        "## 나이브 베이즈 "
      ]
    },
    {
      "cell_type": "code",
      "execution_count": null,
      "metadata": {
        "colab": {
          "base_uri": "https://localhost:8080/"
        },
        "id": "QHbvWZObchso",
        "outputId": "8a287ffa-f903-4714-fdac-dbb9e4e2e660"
      },
      "outputs": [
        {
          "name": "stdout",
          "output_type": "stream",
          "text": [
            "Train set score: 0.774\n",
            "Test set score: 0.733\n"
          ]
        }
      ],
      "source": [
        "from sklearn.naive_bayes import MultinomialNB\n",
        "\n",
        "NB_clf = MultinomialNB(alpha=1.0)\n",
        "NB_clf.fit(X_train_tfidf, y_train)\n",
        "print('Train set score: {:.3f}'.format(NB_clf.score(X_train_tfidf, y_train)))\n",
        "print('Test set score: {:.3f}'.format(NB_clf.score(X_test_tfidf, y_test)))"
      ]
    },
    {
      "cell_type": "code",
      "execution_count": null,
      "metadata": {
        "colab": {
          "base_uri": "https://localhost:8080/"
        },
        "id": "OVC9E5YSGWv_",
        "outputId": "efdb020b-ed2b-46df-9ef8-f641cded53fc"
      },
      "outputs": [
        {
          "name": "stdout",
          "output_type": "stream",
          "text": [
            "Train set score: 0.970\n",
            "Test set score: 0.839\n"
          ]
        }
      ],
      "source": [
        "l_svc = SVC()\n",
        "l_svc.fit(X_train_tfidf, y_train)\n",
        "print('Train set score: {:.3f}'.format(l_svc.score(X_train_tfidf, y_train)))\n",
        "print('Test set score: {:.3f}'.format(l_svc.score(X_test_tfidf, y_test)))"
      ]
    },
    {
      "cell_type": "code",
      "execution_count": null,
      "metadata": {
        "colab": {
          "base_uri": "https://localhost:8080/"
        },
        "id": "g1s3DHMx_gyl",
        "outputId": "bc76b388-9baa-4065-c2d7-2dc9e8ac6c39"
      },
      "outputs": [
        {
          "name": "stdout",
          "output_type": "stream",
          "text": [
            "(0, 0, '사건 근로자 사건 근로 계약 기간 정함 사건 사용자 기간 만료 계약 해지 통보 장하나 당초 근로계약서 작성 당시 병원 신축 공사 완료 시기 불분명 하다 근로 기간 설정 추단 되다 당초 근로 계약 계약 만료 퇴직 하다 하다 개월 사직서 병원 제출 하다 하다 근로계약서 기재 되어다 전체 취지 고려 하다 보다 기간 정함 근로 계약 체결 하다 의도 보기 사건 당사자 병원 신축 공사 지체 되어다 병원 개원 연기 되다 처음 근로 계약 내용 불구 입사 당초 근로 계약 내용 변경 합의 사실 사실 급여 지급 근로계약서 수기 추가 되다 내용 매월 수령 지급 하다 사건 근로자 사실 인정 근로 계약 내용 변경 하다 하다 합의 보이다 또한 사건 근로자 사건 신청 이전 사건 사용자 병원 퇴직 하다 전제 하다 노동부 충주 지청 퇴직금 지급 요구 하다 진정 제기 다른 근로자 근로 계약 체결 근로 계약 기간 설정 하다 사례 찾다 종합 고려 하다 비록 근로계약서 수기 추가 되다 임금 근로 기간 변경 내용 대하 사건 근로자 날인 받다 않다 하다 사건 근로 계약 기간 정함 근로 계약 이다 사건 사용자 근로 계약 기간 만료 계약 해지 통보 인정 하다')\n",
            "(0, 0, '근로자 회사 소장 일거리 생기 연락 하다 하다 넘다 연락 하다 않다 사실 해고 주장 임금 지급 방식 근로 형태 고용 보험 일용 근로자 가입 되다 일용 근로자 로서 이직 사유 무관 하다 실업 급여 받다 우리 위원회 심문 회의 일용직 입사 하다 언제 하다 로기 대한 합의 떨어지다 그만두다 되다 생각 하다 쉬다 기간 일당 진술 하다 비추다 보다 근로자 단위 근로 계약 체결 당일 근로 종료 되다 근로 계약 해지 되다 일용 근로자 판단 되다 설령 상용 근로자 여지 하다 사용자 여주 현장 현장 때문 현장 가지 않다 하다 근로자 연락 하다 않다 보이 근로자 다른 용접 공이 일거리 다시 하자 이야기 하다 않다 진술 하다 해고 사실 확인 거나 이의 제기 하다 않다 근로자 소장 통화 녹취록 사용자 월급 전제 계속 근로 제안 하다 근로자 이르다 거절 하다 종합 하다 보다 사용자 근로자 해고 의사표시 하다')\n",
            "(0, 1, '종전 근무 형태 대로 배차 하다 사건 근로자 늘다 금제 근로 계약 따르다 근무 하다 다시 배차 당일 사건 근로자 입금 전액 납입 사건 노조 부로 사건 근로자 민택분회 가입 되어다 전액 관리제 배차 요구 하다 문서 사건 사용자 보내다 사건 근로자 경우 법적 중재 재정 적용 받다 않다 판단 되다 사건 사용자 사건 근로자 종전 근무 하다 지금 배차 하다 사건 근로자 원래 근무 하다 여부 서면 제출 문서 보내다 상태 진술 비추다 여객 자동차 운수 사업 전액 관리제 위반 여부 하다 사건 승무 정지 처분 보기 어리다 보이다 사건 승무 정지 처분 보기 이상 불이익 취급 부당 노동 행위 해당 되다 않다 사건 사용자 상무 욕설 노조 활동 지배 개입 하다 의사 기인 사정 비추다 사건 근로자 경영 부담 되다 전액 관리제 따르다 보이 사건 사용자 사건 노조 가입 방해 하다 지배 개입 하다 사정 존재 하다 보기 어리다 부당 노동 행위 성립 되다 않다 하다')\n",
            "(2, 2, '근로자 사유 개최 되다 심문 회의 참석 하다 않다 재차 개최 되다 심문 회의 사유 참석 하다 우리 위원회 로서 근로자 구제 신청 의사 스스로 포기 하다')\n",
            "(2, 2, '근로자 사용자 징계 임금 삭감 지방 발령 대해 확답 주지 않다 신청 무력 위해 진정 복직 명령 하다 주장 사용자 오전 근로자 무지 이탈 하다 바로 회사 해고 처분 하다 않다 지금 복귀 하다 업무 보다 바라다 라며 문자메시지 보내다 근로자 하다 않다 여러 차례 내용증명 통해 복귀 명령 하다 또한 사용자 근로자 징계 임금 삭감 지방 발령 가능성 대하 언급 하다 근로자 인사 명령 사실 근로자 우리 위원회 심문 회의 출근 하다 정신 견디다 정도 상황 되다 판단 하다 출근 하다 않다 진술 사실 비추다 보다 근로자 스스로 판단 하다 복귀 하다 않다 보이다 사용자 복귀 명령 형식 거나 진정 따라서 신청 사용자 복귀 명령 목적 달성 되어다 이익 판단 되다')\n",
            "(2, 2, '근로자 사용자 근로 기간 개월 하다 서면 근로 계약 체결 근로자 신청 하다 해고 효력 다투다 근로 계약 기간 만료 근로 관계 종료 되다 따라서 계약 기간 만료 되다 사업 근로자 복귀 하다 하다 법령 사실 실현 이익 존재 하다 않다 하다')\n",
            "(1, 1, '대기발령 무기 정직 처분 사유 이루어지다 징계 위해 소집 되다 인사 위원회 통해 대기발령 향후 행위 지속 되다 경우 업무 장애 발생 하다 개연 대한 입증 고려 하다 대기발령 사실 과거 행위 대한 제재 로서 징계 해당 되다 지각 제외 불량 직무 능력 부족 다른 징계 사유 객관 평가 자료 징계 사유 인정 하다 징계 사유 인정 하다 지각 경우 모두 미만 고의 보기 정시 도착 제외 지각 갑자기 출근시간 조정 비상 경영 기간 발생 고려 하다 인정 되다 징계 사유 비다 양정 하다')\n",
            "(0, 0, '가다 사용자 근로자 별도 통지 보험 상실 신고 하다 사실 사건 사용자 근로자 결근 상실 신고 하다 다시 출근 취득 신고 하다 보이다 보험 상실 신고 해고 사용자 근로자 지점 운영 하다 근로자 허리 다치다 결근 하다 되다 대체 근무 채용 하다 근로자 본점 하다 하다 보이다 인사 명령 사직 강요 해고 사용자 낫다 출근 하라 언제 출근 하다 물다 근로자 하다 않다 본점 출근 거부 결근 하다 사용자 본점 출근 하다 되다 묻다 사용자 하다 않다 사용자 응답 해고')\n",
            "(0, 0, '사건 근로자 정년 도래 사건 근로자 사건 사용자 근로 관계 소멸 되다 이후 근로 제공 수령 관계 사실 유지 되다 하나 사정 당사자 별개 촉탁 근로 관계 형성 되다 사실 유지 되다 관계 대표 회의 퇴직 시키다 하다 이르다 위법 하다 하다')\n",
            "(0, 0, '가다 사용자 적격 여부 위탁 관리 업체 근로 계약 체결 위탁 관리 업체 고용 관계 종료 통보 하다 근로자 위탁 관리 업체 소속 고용 보험 취득 상실 처리 되어다 퇴직금 미지 관련 하다 고용 노동 지청 위탁 관리 업체 대표이사 의견 송치 되다 대표 회의 위탁 관리 업체 수탁 관리 계약서 체결 아파트 주민 매월 납부 하다 관리 관리 포함 되어다 관리 관리 사무소 직원 인건비 포함 되어다 관리 사무소 직원 급여 인상 되다 주민 로부터 관리 받다 하다 상황 발생 하므다 대표 회의 관리 사무소 직원 급여 인상 대하 심의 하다 필요성 인정 되다 주자 대표 회의 명의 통장 대행 관리 사무소 날인 개설 되다 통장 임금 관리 집행 하다 복수 인감 날인 하다 집행 하다 대표 회의 근로자 대하 사용자 지위 직접 임금 지급 고려 하다 사용자 적격 위탁 관리 업체 하다 근로 관계 종료 해고 여부 위탁 관리 업체 근로자 근로계약서 근거 하다 근로 계약해지 통보 송부 근로계약서 기간 정함 근로 명시 근로자 사실 이하 개월 수습 기간 개월 근무 기간 근로 계약 맺다 자로 계약 기간 만료 근로 계약 종료 되다 다른 근로자 사례 존재 하다 사정 하다 합의각서 근로 기간 수탁 관리 계약 종료 되다 서술 규정 존재 거나 근로자 주관 계약 갱신 근로자 갱신 기대권 인정 되다 사건 근로 관계 종료 해고 계약 기간 만료 따르다 하다')\n",
            "(1, 1, '가다 해고 정당성 여부 하루 해고 대상자 선정 기준 결정 대상자 선정 대상자 선정 정성 결여 되어다 의심 들다 노사 대표 회의 대상자 선정 집계 인사 고과 연수 평가 목별 세부 평가 기준 배점 방법 전혀 확인 하다 해고 기준 선정 합리 결여 되어다 주장 대해 사용자 객관 근거 제시 하다 하다 근로 관계 종료 예정 통지서 해고 일과 다른 해고 하다 해고 구체 시기 서면 통지 하다 않다 고려 하다 해고 불이익 취급 부당 노동 행위 해당 여부 노사 대표 협의 하다 해고 기준 대상자 선정 것이므 근로자 해고 부당 노동 행위 의사 기인 하다 이루어지다 쉬다 근로자 대한 해고 불이익 취급 부당 노동 행위 해당 하다 않다')\n",
            "(2, 2, '사건 근로자 자로 해고 되어다 주장 하다 자로 신청 하다 사건 근로기준법 신청 기간 지난 것이므 해고 정당성 여부 살펴보다 필요 노동 위원회 규칙 항제 각하 사유 해당')\n",
            "(0, 0, '전보 정당성 여부 매년 인사 발령 시행 하다 오다 퇴직 명의 결원 발생 하다 근로자 포함 대하 인사 발령 하다 인사 관리 규정 퇴직 따르다 결원 발생 기타 인력 관리 필요 따르다 인사 이동 명시 고려 하다 인사 발령 업무 필요성 인정 되다 하다 인사 발령 다른 이동 양산 본사 이루어지다 노선 비다 공차 운행 불이익 노선 변경 수반 되다 예상 되다 정도 일반 불이익 그치다 보이다 통상 감수 하다 하다 정도 현저 벗어나다 보기 인사 발령 통상 임금 관련 소송 계속 참여자 경우 무기사 기사 발령 받다 보다 사용자 단지 통상 임금 관련 소송 계속 참여 이유 근로자 불이익 주다 보기 또한 인사 발령 장기 근속 대하 선호 노선 배치 하다 관행 현저 벗어나다 불합리 인사 보기 어리다 비록 사전 근로자 본인 협의 하다 사정 인사 재량 범위 벗어나다 권리남용 해당 하다 당연무효 되다 부당 노동 행위 해당 여부 업무 필요 따르다 인사 발령 하다 통상 임금 소송참가 따르다 보복 사용자 부당 노동 행위 의사 증거')\n",
            "(1, 1, '가다 정직 징계 사용자 징계 사유 삼은 비위 행위 인사 평가 등급 암호 제출 거절 징계 사유 인정 되다 상사 지시 이행 업무 과실 업무 부적합 동료 마찰 거짓말 번복 행위 업무 개인 용무 늘다 징계 사유 발생 시점 구체 비위 행위 특정 되다 않다 객관 입증 자료 징계 사유 인정 되다 않다 인사 평가 등급 암호 제출 거부 비위 행위 하다 보기 어리다 징계 개월 정직 처분 사회 통념 인정 되다 징계 사유 하다 처분 하다 판단 되다 해고 징계 존재 하다 사용자 주장 하다 해고 징계 사유 상사 음해 하다 진정 제기 오다 정직 대기 여직원 대한 직장 괴롭힘 가지 로서 징계 사유 대한 입증책임 사용자 근로자 허위 사실 진정 하다 대한 객관 결론 나다 않다 직장 괴롭힘 대한 구체 사실 확인 사용자 징계 사유 대하 입증 하다 보기 해고 징계 사유 인정 하다 따라서 징계 정이 징계 절차 대해 나아가다 살펴보다 필요')\n",
            "(1, 0, '수습 기간 중인 근로자 대하 수습 평가 실시 객관 평가 기준 절차 따르다 수습 평가 실시 하다 보기 동료 직원 평가 진술서 작성 사용자 개입 하다 여지 따라서 영업 실적 부진 이외 사유 이르다 인정 하다 달리 이르다 인정 하다 증거 영업 실적 부진 근로자 개인 능력 자질 부족 보기 종합 하다 보다 채용 거부 이유 보기 또한 수습 근로 만료 통지서 업무 평가 점수 미달 이르다 기재 채용 거부 통지 절차 하자 하다')\n",
            "(0, 0, '근로자 사용자 해고 하다 장하나 사용자 제출 녹취록 따르다 사용자 근로자 수행 하다 사업 종료 하다 하다 근로자 하다 하다 하다 하다 회사 오다 되다 하자 근로자 어차피 맞다 서로 갈다 가다 오늘 부로 정리 하다 보다 사용자 근로자 사직 권고 근로자 이르다 수용 판단 되다 달리 사용자 해고 하다 사정 보이지 않다 근로 관계 사용자 일방 의사 종료 되어다 해고 존재 하다 않다 판단 되다')\n",
            "(0, 0, '회사 보안 중요 기물 감시카메라 주시 방향 걸치다 공장 천정 공장 바닥 돌리다 경비 업무 정상 이루어지다 않다 회사 감시카메라 감시 기능 하다 상태 복구 재차 다른 방향 돌리다 사건 근로자 업무방해 행위 고의 인정 되다 사건 사용자 정직 징계처분 현저 하다 타당성 잃다 재량 남용 하다 노동조합 노동 관계 정법 지배 개입 부당 노동 행위 성립 되다 하다 노동조합 조직 운영 하다 지배 거나 개입 하다 경우 하다 감시카메라 노동조합 사무실 공장 출입문 출입문 개방 하다 않다 하다 노동조합 사무실 통행 하다 사람 촬영 되다 않다 출입문 평소 닫히다 출입 통행 하다 경우 자동 닫다 형태 설치 되어다 감시카메라 장내 대의 감시카메라 설치 운용 되다 사건 근로자 노동조합 감시카메라 설치 운용 사실 부당 노동 행위 해당 객관 입증 자료 제출 않다 종합 하다 부당 노동 행위')\n",
            "(0, 0, '서울시 버스 운행 실태 점검 결과 사건 사용자 존폐 여부 영향 되다 사정 확인 되다 때문 사건 사용자 서울시 버스 운행 실태 점검 결과 영상 매우 사항 인정 되다 상황 사건 근로자 서울시 버스 운행 실태 암행 점검 가지 점검 항목 대한 지적 사항 적발 되어다 이로 사건 사용자 서울시 로부터 지적 사항 감점 받다 사실 확인 되다 이다 사건 사용자 취업규칙 징계 사유 해당 사건 사용자 사건 근로자 서울시 버스 운행 실태 암행 점검 적발 되다 버스 운전기사 감점 정직 처분 해오다 관행 보아 사건 근로자 과중 징계처분 하다 보기')\n",
            "(0, 0, '가다 기간 정함 근로 계약 여부 근로 기간 근로 계약 체결 하다 근로계약서 상의 습기 해당 사항 확인 되다 근로 기간 습기 주장 하다 근로자 주장 확인 하다 객관 자료 기간 정함 근로 계약 체결 판단 되다 근로 계약 갱신 기대권 존재 하다 여부 근로계약서 취업규칙 근로 기간 만료 되다 경우 근로 관계 자동 종료 하다 규정 요건 충족 되다 근로 계약 갱신 되다 의무 규정 두다 않다 이전 채용 확정 되어다 다른 근로자 부터 근무 시작 하다 정해지다 갱신 기대권 인정 하다 사정 확인 되다 않다 사건 근로 관계 계약 기간 만료 따르다 종료 되다 판단 되다')\n",
            "(0, 0, '김승주 차장 배차 사건 근로자 부터 오전 오후 근무 지시 사실 인정이 되다 취업규칙 보다 근무 시업 시간 종업 시간 휴게 시간 근로시간 되어다 단체 협약 보다 시업 시간 종업 시간 차량 입다 시간 되어다 사건 근로자 근로계약서 오전 시업 시간 종업 시간 차량 입다 시간 되어다 사건 근로자 평균 행시 나타나다 근무시간 축소 임금 손실 대한 사건 근로자 주장 뒷받침 하다 근거 자료 실제 사건 근로자 시업 시간 종업 시간 지키다 않다 전후 이용 하다 진술 종합 하다 실제 정도 근무 하다 확인 하다 승무 시간 변경 근로기준법 징벌 해당 되다 보이지 않다 불이익 보이다 사건 승무 시간 변경 조치 사건 사용자 인사 범위 조치 하다')\n",
            "(2, 0, '사용자 도급 관계 유지 하다 방안 하나로 근로자 다른 사업 전보 제의 보이 이다 업무 상의 필요성 보이다 해고 사실 인정 하다 정황 근거 발견 하다 근로자 해고 되어다 주장 하다 비번 이다 다음 전보 제의 받다 사실 시인 사용자 근로자 무단 결근 상태 지속 하다 퇴직 처리 되다 내용증명 우편물 발송 종합 하다 사용자 근로자 전보 협의 사실 해고 하다 사실 발견 하다')\n",
            "(1, 1, '가다 징계 사유 정당성 여부 징계 사유 업무 이메일 사용자 서버 삭제 행위 사용자 업무 저해 하다 징계 사유 인정 되다 외부 단체 업무 지원 당시 사용자 집행 부의 지시 따르다 근로자 임의 수행 하다 보기 외부 단체 업무 지원 하다 보수 받다 외부 용역 수행 하다 금품 객관 확인 되다 않다 외부 단체 관련 직무 관련 제반 자료 제공 이전 사용자 집행 부의 승인 독단 이루어지다 것임 인정 하다 증거 존재 하다 않다 사건 근로자 과장 직무 관련 정보 유출 지시 하다 입증 되다 않다 사직 권고 실시 되다 성과 평가 이루어지다 인정 하다 증거 제시 되다 않다 근로자 집행 폄훼 객관 입증 되다 않다 나머지 사유 징계 사유 인정 하다 징계 정의 적정 여부 대다수 징계 사유 정당성 인정 되다 않다 업무 이메일 삭제 관련 하다 사건 사용자 이메일 관리 규정 인정 근로자 사회 통념 고용 관계 계속 하다 정도 책임 사유 존재 하다 판단 되다')\n",
            "(2, 2, '사건 근로자 신청 근로기준법 법률 호로 개정 되다 법률 노동 위원회 규칙 제척기간 도과 하다 규칙 호의 당사자 취지 확정 되다 판정 신청 제기 경우 해당 되다 따라서 사건 신청 신청 요건 갖추다 하다 우리 위원회 각하 하다 하다')\n",
            "(2, 0, '당사자 근로 기간 명시 되다 기간 정함 근로 계약 체결 하다 근로계약서 취업규칙 갱신 명시 규정 두다 않다 근로자 근로 계약 체결 사실 확인 되다 업무 종사 하다 다른 근로자 계약 갱신 관행 확인 되다 않다 근로자 주장 하다 재계약 약속 진술 상반 되다 자료 입증 되다 않다 근로자 스스로 재계약 권한 가지다 대표이사 로부터 재계약 약속 들다 진술 사정 고려 하다 근로자 근로 계약 갱신 기대권 존재 하다 않다 당사자 간의 근로 관계 계약 기간 만료 종료 되어다 사건 신청 이익 존재 하다 않다 판단 되다')\n",
            "(0, 0, '인사 규정 정년 하다 퇴직 하다 규정 근로 관계 종료 정년 자동 소멸 사유 보이다 인사 규정 직급 따르다 정년 근로자 대하 정년 퇴직 처리 사례 근로자 주장 직급 따르다 정년 합리 성과 타당성 잃다 위법 하다 보기 근로자 정년 퇴직 이의 제기 하다 않다 작성 하다 공증 받다 사용자 제출 위로 지급 받다 종합 하다 고려 하다 근로자 합의 정년 근로 관계 종료 해당 하므다 근로자 의사 사용자 일방 의사표시 따르다 이루어지다 해고 처분 하다 따라서 정년 근로 관계 종료 이다 해고 존재 하다 않다 정당성 여부 대하 이상 살펴보다 필요')\n",
            "(0, 0, '휴직 실질 기초 사실 근로 제공 하다 상병 조속 기일 해소 되다 가능성 휴직 사유 정도 고용 관계 계속 유지 입다 되다 업무 상의 영향 사정 비추다 단체 협약 소정 퇴직 규정 의거 휴직 기간 만료 퇴직 조치 하다')\n",
            "(0, 0, '징계 사유 인사 규정 사원 금전 거래 금지 사건 근로자 사다 보험 모집 간의 금전 거래 사실 사건 근로자 지점 지위 이용 하다 사다 보험 모집 금전 거래 통해 개인 이익 취하 이다 보이다 사건 사용자 주장 하다 사건 근로자 징계 사유 하다 징계 양정 보험 회사 사건 사용자 사업 특성 지점 인사 예산 집행권 가지 지점 운영 총괄 하다 관리 감독 로서 사건 근로자 누구 도덕성 요구 되다 하다 따라서 사건 근로자 비위 행위 정도 결코 않다 사회 통념 근로 관계 이상 지속 하다 판단 되다 사건 사용자 사건 근로자 면직 처분 징계 정이 거나 형평 원칙 위법 하다 재량 남용 징계 하다 하다 징계 절차 사건 근로자 사건 사용자 징계 자료 확보 과정 신청 정숙 불안감 조성하 절차 장하나 사건 사용자 징계 절차 위반 하다 객관 증거 발견 하다 사건 근로자 주장 사건 사용자 사건 근로자 대해 징계처분 절차 위법 하다 보기 하다')\n",
            "(0, 0, '가다 징계 사유 근로자 근무시간 상급자 승인 무지 이탈 하다 샤워 하다 사실 확인 되다 취업규칙 근무 이탈 징계 사유 해당 징계 양정 근로자 근무 이탈 취업규칙 징계 사유 해당 사용자 사유 근로자 대하 감봉 이상 징계처분 하다 사실 감봉 징계처분 사회 통념 타당성 잃다 징계 재량 범위 타다 이르다 남용 보기 징계 절차 사용자 근로자 대한 징계 하다 징계 위원회 개최 하다 소명 받다 재심 인정 하다 징계 관련 규정 준수 보이 근로자 절차 관련 주장 하다 않다 징계 절차 판단 되다')\n",
            "(0, 0, '근로자 강요 사직서 제출 하다 이후 사직서 철회 요청 하다 사용자 근로 관계 종료 하다 해고 주장 근로자 휴가 사용 관련 하다 담당자 언쟁 먼저 사직 의사 표시 사직서 양식 요청 하다 근로자 제공 받다 사직서 양식 스스로 친필 사직서 작성 근로자 강요 사직서 제출 하다 사실 입증 하다 증거 제시 하다 사직서 작성 제출 과정 사용자 강요 협박 황도 찾다 근로자 사직서 제출 다음 날인 스스로 본인 챙기다 요양원 나가다 이후 출근 하다 않다 이의 퇴직금 수령 근로자 사용자 사직서 철회 요청 하다 이다 근로자 사직서 제출 출근 하다 않다 사용자 근로 관계 종료 시키다 이후 종합 하다 근로 관계 근로자 사용자 강요 협박 본인 자유 의사 사직서 제출 이후 출근 하다 않다 종료 되다 이다 해고 해당 하다 않다 해고 존재 하다 않다 해고 정당성 여부 대해 서다 이상 살펴보다 필요')\n",
            "(1, 1, '가다 징계 사유 정당성 여부 사건 근로자 능직 공무원 준연 공모 하다 타인 사건 사용자 소유 재산 고철 절취 판매 하다 벌금 선고유예 유죄 판결 받다 최종 확정 되다 징계 사유 되다 하다 징계 정의 적정 여부 사건 근로자 관리자 로서 책임 준연 문왕 대하 징계 가장 견책 처분 하다 사건 근로자 대하 가장 해고 처분 하다 징계 형평성 공평 평등 원칙 위반 되다 사건 근로자 근무 기간 사건 해고 처분 다른 징계처분 받다 않다 함안 군수 공로 경상남도지사 표창 받다 도민 체육대회 육상경기 성적 내다 근무 하다 이르다 사건 사용자 징계 양정 참작 하다 않다 사회 통념 타당성 잃다 징계 재량 남용 보이다 징계 절차 정당성 여부 징계 절차 대해 부터 시행 되다 함안군 훈령 적용 하다 사건 사용자 함안군 훈령 징계 절차 규정 이유 사건 근로자 대해 징계 위원회 개최 하다 않다 소명 기회 부여 하다 않다 법리 오해 보이 징계 절차 하자 판단 되다')\n"
          ]
        }
      ],
      "source": [
        "for content in zip(y_test[:30], l_svc.predict(X_test_tfidf[:30]), X_test[:30]):\n",
        "    print(content)"
      ]
    },
    {
      "cell_type": "code",
      "execution_count": null,
      "metadata": {
        "id": "UTUWzA14dF1w"
      },
      "outputs": [],
      "source": [
        "# from sklearn.ensemble import AdaBoostClassifier\n",
        "# from sklearn.tree import DecisionTreeClassifier\n",
        "\n",
        "# model_ada = AdaBoostClassifier(n_estimators=100, base_estimator=DecisionTreeClassifier(max_depth=5),\n",
        "#                                algorithm='SAMME.R', learning_rate=0.5)\n",
        "# model_ada.fit(X_train_tfidf, y_train)\n",
        "# print('Train set score: {:.3f}'.format(model_ada.score(X_train_tfidf, y_train)))\n",
        "# print('Test set score: {:.3f}'.format(model_ada.score(X_test_tfidf, y_test)))"
      ]
    },
    {
      "cell_type": "code",
      "execution_count": null,
      "metadata": {
        "id": "uwlH3OgFdOTd"
      },
      "outputs": [],
      "source": [
        "# import xgboost as xgb\n",
        "\n",
        "# model_xgb = xgb.XGBClassifier(booster = 'gbtree',\n",
        "#                              learning_rate = 0.5,\n",
        "#                               n_estimators= 100,\n",
        "#                              max_depth=5)\n",
        "\n",
        "# model_xgb.fit(X_train_tfidf, y_train)\n",
        "# print('Train set score: {:.3f}'.format(model_xgb.score(X_train_tfidf, y_train)))\n",
        "# print('Test set score: {:.3f}'.format(model_xgb.score(X_test_tfidf, y_test)))\n"
      ]
    },
    {
      "cell_type": "markdown",
      "metadata": {
        "id": "tCqzpvHc6fmA"
      },
      "source": [
        "## 보팅 "
      ]
    },
    {
      "cell_type": "code",
      "execution_count": null,
      "metadata": {
        "colab": {
          "base_uri": "https://localhost:8080/"
        },
        "id": "PPgFHJc3HELL",
        "outputId": "d26be049-8313-4b66-8662-cc8b6be8b697"
      },
      "outputs": [
        {
          "name": "stdout",
          "output_type": "stream",
          "text": [
            "Hard voting on test set score mean: 81.14\n"
          ]
        }
      ],
      "source": [
        "#각 모델 그리드서치에서 best_estimator_\n",
        "# 최적의 파라미터 조합 출력\n",
        "LGS_best = gsLGS.best_estimator_\n",
        "RFC_best = gsRFC.best_estimator_\n",
        "# SVM_best = gsSVC.best_estimator_\n",
        "NB_best = gsNB.best_estimator_\n",
        "\n",
        "# NB_best = NB_clf.best_estimator_\n",
        "# ('MultinomialNB',NB_best)\n",
        "\n",
        "#튜닝한 파라미터로 하드보팅한 후 점수 출력.\n",
        "grid_hard = VotingClassifier(estimators = [('Logistic Regression', LGS_best),\n",
        "                                           ('Random Forest', RFC_best),\n",
        "                                           ('MultinomialNB', NB_best)\n",
        "                                           ], voting = 'hard')\n",
        "\n",
        "grid_hard_cv = model_selection.cross_validate(grid_hard, X_train_tfidf, y_train, cv=10)\n",
        "\n",
        "print(\"Hard voting on test set score mean: {:.2f}\". format(grid_hard_cv['test_score'].mean() * 100))"
      ]
    },
    {
      "cell_type": "code",
      "execution_count": null,
      "metadata": {
        "colab": {
          "base_uri": "https://localhost:8080/"
        },
        "id": "59Hw3uiO2wMQ",
        "outputId": "7e82365d-8110-49c9-9d85-3f73a56ee52c"
      },
      "outputs": [
        {
          "name": "stdout",
          "output_type": "stream",
          "text": [
            "Soft voting on test set score mean: 81.25\n"
          ]
        }
      ],
      "source": [
        "grid_soft = VotingClassifier(estimators = [('Logistic Regression', LGS_best),\n",
        "                                           ('Random Forest', RFC_best),\n",
        "                                           ('MultinomialNB', NB_best)\n",
        "                                           ], voting = 'soft')\n",
        "\n",
        "grid_soft_cv = model_selection.cross_validate(grid_soft, X_train_tfidf, y_train, cv=10)\n",
        "\n",
        "print(\"Soft voting on test set score mean: {:.2f}\". format(grid_soft_cv['test_score'].mean() * 100))"
      ]
    }
  ],
  "metadata": {
    "colab": {
      "collapsed_sections": [],
      "provenance": []
    },
    "kernelspec": {
      "display_name": "Python 3",
      "name": "python3"
    },
    "language_info": {
      "name": "python"
    }
  },
  "nbformat": 4,
  "nbformat_minor": 0
}